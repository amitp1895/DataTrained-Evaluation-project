{
 "cells": [
  {
   "cell_type": "code",
   "execution_count": 1,
   "metadata": {},
   "outputs": [],
   "source": [
    "import pandas as pd\n",
    "import numpy as np \n",
    "import matplotlib.pyplot as plt\n",
    "%matplotlib inline\n",
    "import seaborn as sns\n",
    "import matplotlib as mpl\n",
    "import sklearn\n",
    "import warnings\n",
    "warnings.filterwarnings(\"ignore\")\n",
    "from sklearn.preprocessing import LabelEncoder"
   ]
  },
  {
   "cell_type": "code",
   "execution_count": 2,
   "metadata": {},
   "outputs": [
    {
     "data": {
      "text/html": [
       "<div>\n",
       "<style scoped>\n",
       "    .dataframe tbody tr th:only-of-type {\n",
       "        vertical-align: middle;\n",
       "    }\n",
       "\n",
       "    .dataframe tbody tr th {\n",
       "        vertical-align: top;\n",
       "    }\n",
       "\n",
       "    .dataframe thead th {\n",
       "        text-align: right;\n",
       "    }\n",
       "</style>\n",
       "<table border=\"1\" class=\"dataframe\">\n",
       "  <thead>\n",
       "    <tr style=\"text-align: right;\">\n",
       "      <th></th>\n",
       "      <th>Unnamed: 0</th>\n",
       "      <th>Date</th>\n",
       "      <th>AveragePrice</th>\n",
       "      <th>Total Volume</th>\n",
       "      <th>4046</th>\n",
       "      <th>4225</th>\n",
       "      <th>4770</th>\n",
       "      <th>Total Bags</th>\n",
       "      <th>Small Bags</th>\n",
       "      <th>Large Bags</th>\n",
       "      <th>XLarge Bags</th>\n",
       "      <th>type</th>\n",
       "      <th>year</th>\n",
       "      <th>region</th>\n",
       "    </tr>\n",
       "  </thead>\n",
       "  <tbody>\n",
       "    <tr>\n",
       "      <th>3871</th>\n",
       "      <td>23</td>\n",
       "      <td>2016-07-17</td>\n",
       "      <td>1.22</td>\n",
       "      <td>165453.60</td>\n",
       "      <td>77112.26</td>\n",
       "      <td>34464.53</td>\n",
       "      <td>413.30</td>\n",
       "      <td>53463.51</td>\n",
       "      <td>25220.88</td>\n",
       "      <td>23917.91</td>\n",
       "      <td>4324.72</td>\n",
       "      <td>conventional</td>\n",
       "      <td>2016</td>\n",
       "      <td>Jacksonville</td>\n",
       "    </tr>\n",
       "    <tr>\n",
       "      <th>9711</th>\n",
       "      <td>13</td>\n",
       "      <td>2015-09-27</td>\n",
       "      <td>1.48</td>\n",
       "      <td>12224.81</td>\n",
       "      <td>8224.68</td>\n",
       "      <td>303.47</td>\n",
       "      <td>0.00</td>\n",
       "      <td>3696.66</td>\n",
       "      <td>3696.66</td>\n",
       "      <td>0.00</td>\n",
       "      <td>0.00</td>\n",
       "      <td>organic</td>\n",
       "      <td>2015</td>\n",
       "      <td>DallasFtWorth</td>\n",
       "    </tr>\n",
       "    <tr>\n",
       "      <th>6106</th>\n",
       "      <td>13</td>\n",
       "      <td>2017-10-01</td>\n",
       "      <td>1.86</td>\n",
       "      <td>183683.68</td>\n",
       "      <td>7514.77</td>\n",
       "      <td>58917.31</td>\n",
       "      <td>626.22</td>\n",
       "      <td>116625.38</td>\n",
       "      <td>22881.73</td>\n",
       "      <td>93645.32</td>\n",
       "      <td>98.33</td>\n",
       "      <td>conventional</td>\n",
       "      <td>2017</td>\n",
       "      <td>CincinnatiDayton</td>\n",
       "    </tr>\n",
       "    <tr>\n",
       "      <th>17676</th>\n",
       "      <td>3</td>\n",
       "      <td>2018-03-04</td>\n",
       "      <td>1.57</td>\n",
       "      <td>239135.67</td>\n",
       "      <td>34245.39</td>\n",
       "      <td>67952.25</td>\n",
       "      <td>0.00</td>\n",
       "      <td>136938.03</td>\n",
       "      <td>136877.43</td>\n",
       "      <td>60.60</td>\n",
       "      <td>0.00</td>\n",
       "      <td>organic</td>\n",
       "      <td>2018</td>\n",
       "      <td>California</td>\n",
       "    </tr>\n",
       "    <tr>\n",
       "      <th>1652</th>\n",
       "      <td>40</td>\n",
       "      <td>2015-03-22</td>\n",
       "      <td>0.98</td>\n",
       "      <td>363504.44</td>\n",
       "      <td>260635.00</td>\n",
       "      <td>29682.52</td>\n",
       "      <td>141.02</td>\n",
       "      <td>73045.90</td>\n",
       "      <td>37453.09</td>\n",
       "      <td>35592.81</td>\n",
       "      <td>0.00</td>\n",
       "      <td>conventional</td>\n",
       "      <td>2015</td>\n",
       "      <td>Orlando</td>\n",
       "    </tr>\n",
       "  </tbody>\n",
       "</table>\n",
       "</div>"
      ],
      "text/plain": [
       "       Unnamed: 0        Date  AveragePrice  Total Volume       4046  \\\n",
       "3871           23  2016-07-17          1.22     165453.60   77112.26   \n",
       "9711           13  2015-09-27          1.48      12224.81    8224.68   \n",
       "6106           13  2017-10-01          1.86     183683.68    7514.77   \n",
       "17676           3  2018-03-04          1.57     239135.67   34245.39   \n",
       "1652           40  2015-03-22          0.98     363504.44  260635.00   \n",
       "\n",
       "           4225    4770  Total Bags  Small Bags  Large Bags  XLarge Bags  \\\n",
       "3871   34464.53  413.30    53463.51    25220.88    23917.91      4324.72   \n",
       "9711     303.47    0.00     3696.66     3696.66        0.00         0.00   \n",
       "6106   58917.31  626.22   116625.38    22881.73    93645.32        98.33   \n",
       "17676  67952.25    0.00   136938.03   136877.43       60.60         0.00   \n",
       "1652   29682.52  141.02    73045.90    37453.09    35592.81         0.00   \n",
       "\n",
       "               type  year            region  \n",
       "3871   conventional  2016      Jacksonville  \n",
       "9711        organic  2015     DallasFtWorth  \n",
       "6106   conventional  2017  CincinnatiDayton  \n",
       "17676       organic  2018        California  \n",
       "1652   conventional  2015           Orlando  "
      ]
     },
     "execution_count": 2,
     "metadata": {},
     "output_type": "execute_result"
    }
   ],
   "source": [
    "df=pd.read_csv(\"Avocado.csv\")\n",
    "df.sample(5)"
   ]
  },
  {
   "cell_type": "code",
   "execution_count": 3,
   "metadata": {},
   "outputs": [
    {
     "data": {
      "text/plain": [
       "array([  0.  ,  33.33, 104.17, ..., 228.27,  12.12,  24.18])"
      ]
     },
     "execution_count": 3,
     "metadata": {},
     "output_type": "execute_result"
    }
   ],
   "source": [
    "df[\"XLarge Bags\"].unique()"
   ]
  },
  {
   "cell_type": "code",
   "execution_count": 4,
   "metadata": {},
   "outputs": [
    {
     "data": {
      "text/plain": [
       "(18249, 14)"
      ]
     },
     "execution_count": 4,
     "metadata": {},
     "output_type": "execute_result"
    }
   ],
   "source": [
    "df.shape"
   ]
  },
  {
   "cell_type": "raw",
   "metadata": {},
   "source": [
    "observation \n",
    "in both classification of and regression model , unnamed , date will not help  for any stats "
   ]
  },
  {
   "cell_type": "code",
   "execution_count": 5,
   "metadata": {},
   "outputs": [],
   "source": [
    "df.drop(\"Unnamed: 0\", inplace=True , axis=1)"
   ]
  },
  {
   "cell_type": "code",
   "execution_count": 6,
   "metadata": {},
   "outputs": [],
   "source": [
    "df.drop(\"Date\", inplace=True , axis=1)"
   ]
  },
  {
   "cell_type": "code",
   "execution_count": 7,
   "metadata": {},
   "outputs": [
    {
     "data": {
      "text/plain": [
       "(18249, 12)"
      ]
     },
     "execution_count": 7,
     "metadata": {},
     "output_type": "execute_result"
    }
   ],
   "source": [
    "df.shape"
   ]
  },
  {
   "cell_type": "code",
   "execution_count": 8,
   "metadata": {},
   "outputs": [
    {
     "data": {
      "text/plain": [
       "Index(['AveragePrice', 'Total Volume', '4046', '4225', '4770', 'Total Bags',\n",
       "       'Small Bags', 'Large Bags', 'XLarge Bags', 'type', 'year', 'region'],\n",
       "      dtype='object')"
      ]
     },
     "execution_count": 8,
     "metadata": {},
     "output_type": "execute_result"
    }
   ],
   "source": [
    "df.columns"
   ]
  },
  {
   "cell_type": "code",
   "execution_count": 9,
   "metadata": {},
   "outputs": [
    {
     "data": {
      "text/html": [
       "<div>\n",
       "<style scoped>\n",
       "    .dataframe tbody tr th:only-of-type {\n",
       "        vertical-align: middle;\n",
       "    }\n",
       "\n",
       "    .dataframe tbody tr th {\n",
       "        vertical-align: top;\n",
       "    }\n",
       "\n",
       "    .dataframe thead th {\n",
       "        text-align: right;\n",
       "    }\n",
       "</style>\n",
       "<table border=\"1\" class=\"dataframe\">\n",
       "  <thead>\n",
       "    <tr style=\"text-align: right;\">\n",
       "      <th></th>\n",
       "      <th>AveragePrice</th>\n",
       "      <th>Total Volume</th>\n",
       "      <th>4046</th>\n",
       "      <th>4225</th>\n",
       "      <th>4770</th>\n",
       "      <th>Total Bags</th>\n",
       "      <th>Small Bags</th>\n",
       "      <th>Large Bags</th>\n",
       "      <th>XLarge Bags</th>\n",
       "      <th>type</th>\n",
       "      <th>year</th>\n",
       "      <th>region</th>\n",
       "    </tr>\n",
       "  </thead>\n",
       "  <tbody>\n",
       "    <tr>\n",
       "      <th>1427</th>\n",
       "      <td>0.98</td>\n",
       "      <td>258559.32</td>\n",
       "      <td>167068.14</td>\n",
       "      <td>8930.71</td>\n",
       "      <td>11720.44</td>\n",
       "      <td>70840.03</td>\n",
       "      <td>62702.44</td>\n",
       "      <td>8131.55</td>\n",
       "      <td>6.04</td>\n",
       "      <td>conventional</td>\n",
       "      <td>2015</td>\n",
       "      <td>NewOrleansMobile</td>\n",
       "    </tr>\n",
       "  </tbody>\n",
       "</table>\n",
       "</div>"
      ],
      "text/plain": [
       "      AveragePrice  Total Volume       4046     4225      4770  Total Bags  \\\n",
       "1427          0.98     258559.32  167068.14  8930.71  11720.44    70840.03   \n",
       "\n",
       "      Small Bags  Large Bags  XLarge Bags          type  year  \\\n",
       "1427    62702.44     8131.55         6.04  conventional  2015   \n",
       "\n",
       "                region  \n",
       "1427  NewOrleansMobile  "
      ]
     },
     "execution_count": 9,
     "metadata": {},
     "output_type": "execute_result"
    }
   ],
   "source": [
    "df.sample()"
   ]
  },
  {
   "cell_type": "code",
   "execution_count": 10,
   "metadata": {},
   "outputs": [
    {
     "data": {
      "text/html": [
       "<div>\n",
       "<style scoped>\n",
       "    .dataframe tbody tr th:only-of-type {\n",
       "        vertical-align: middle;\n",
       "    }\n",
       "\n",
       "    .dataframe tbody tr th {\n",
       "        vertical-align: top;\n",
       "    }\n",
       "\n",
       "    .dataframe thead th {\n",
       "        text-align: right;\n",
       "    }\n",
       "</style>\n",
       "<table border=\"1\" class=\"dataframe\">\n",
       "  <thead>\n",
       "    <tr style=\"text-align: right;\">\n",
       "      <th></th>\n",
       "      <th>AveragePrice</th>\n",
       "      <th>Total Volume</th>\n",
       "      <th>4046</th>\n",
       "      <th>4225</th>\n",
       "      <th>4770</th>\n",
       "      <th>Total Bags</th>\n",
       "      <th>Small Bags</th>\n",
       "      <th>Large Bags</th>\n",
       "      <th>XLarge Bags</th>\n",
       "      <th>year</th>\n",
       "    </tr>\n",
       "  </thead>\n",
       "  <tbody>\n",
       "    <tr>\n",
       "      <th>count</th>\n",
       "      <td>18249.000000</td>\n",
       "      <td>1.824900e+04</td>\n",
       "      <td>1.824900e+04</td>\n",
       "      <td>1.824900e+04</td>\n",
       "      <td>1.824900e+04</td>\n",
       "      <td>1.824900e+04</td>\n",
       "      <td>1.824900e+04</td>\n",
       "      <td>1.824900e+04</td>\n",
       "      <td>18249.000000</td>\n",
       "      <td>18249.000000</td>\n",
       "    </tr>\n",
       "    <tr>\n",
       "      <th>mean</th>\n",
       "      <td>1.405978</td>\n",
       "      <td>8.506440e+05</td>\n",
       "      <td>2.930084e+05</td>\n",
       "      <td>2.951546e+05</td>\n",
       "      <td>2.283974e+04</td>\n",
       "      <td>2.396392e+05</td>\n",
       "      <td>1.821947e+05</td>\n",
       "      <td>5.433809e+04</td>\n",
       "      <td>3106.426507</td>\n",
       "      <td>2016.147899</td>\n",
       "    </tr>\n",
       "    <tr>\n",
       "      <th>std</th>\n",
       "      <td>0.402677</td>\n",
       "      <td>3.453545e+06</td>\n",
       "      <td>1.264989e+06</td>\n",
       "      <td>1.204120e+06</td>\n",
       "      <td>1.074641e+05</td>\n",
       "      <td>9.862424e+05</td>\n",
       "      <td>7.461785e+05</td>\n",
       "      <td>2.439660e+05</td>\n",
       "      <td>17692.894652</td>\n",
       "      <td>0.939938</td>\n",
       "    </tr>\n",
       "    <tr>\n",
       "      <th>min</th>\n",
       "      <td>0.440000</td>\n",
       "      <td>8.456000e+01</td>\n",
       "      <td>0.000000e+00</td>\n",
       "      <td>0.000000e+00</td>\n",
       "      <td>0.000000e+00</td>\n",
       "      <td>0.000000e+00</td>\n",
       "      <td>0.000000e+00</td>\n",
       "      <td>0.000000e+00</td>\n",
       "      <td>0.000000</td>\n",
       "      <td>2015.000000</td>\n",
       "    </tr>\n",
       "    <tr>\n",
       "      <th>25%</th>\n",
       "      <td>1.100000</td>\n",
       "      <td>1.083858e+04</td>\n",
       "      <td>8.540700e+02</td>\n",
       "      <td>3.008780e+03</td>\n",
       "      <td>0.000000e+00</td>\n",
       "      <td>5.088640e+03</td>\n",
       "      <td>2.849420e+03</td>\n",
       "      <td>1.274700e+02</td>\n",
       "      <td>0.000000</td>\n",
       "      <td>2015.000000</td>\n",
       "    </tr>\n",
       "    <tr>\n",
       "      <th>50%</th>\n",
       "      <td>1.370000</td>\n",
       "      <td>1.073768e+05</td>\n",
       "      <td>8.645300e+03</td>\n",
       "      <td>2.906102e+04</td>\n",
       "      <td>1.849900e+02</td>\n",
       "      <td>3.974383e+04</td>\n",
       "      <td>2.636282e+04</td>\n",
       "      <td>2.647710e+03</td>\n",
       "      <td>0.000000</td>\n",
       "      <td>2016.000000</td>\n",
       "    </tr>\n",
       "    <tr>\n",
       "      <th>75%</th>\n",
       "      <td>1.660000</td>\n",
       "      <td>4.329623e+05</td>\n",
       "      <td>1.110202e+05</td>\n",
       "      <td>1.502069e+05</td>\n",
       "      <td>6.243420e+03</td>\n",
       "      <td>1.107834e+05</td>\n",
       "      <td>8.333767e+04</td>\n",
       "      <td>2.202925e+04</td>\n",
       "      <td>132.500000</td>\n",
       "      <td>2017.000000</td>\n",
       "    </tr>\n",
       "    <tr>\n",
       "      <th>max</th>\n",
       "      <td>3.250000</td>\n",
       "      <td>6.250565e+07</td>\n",
       "      <td>2.274362e+07</td>\n",
       "      <td>2.047057e+07</td>\n",
       "      <td>2.546439e+06</td>\n",
       "      <td>1.937313e+07</td>\n",
       "      <td>1.338459e+07</td>\n",
       "      <td>5.719097e+06</td>\n",
       "      <td>551693.650000</td>\n",
       "      <td>2018.000000</td>\n",
       "    </tr>\n",
       "  </tbody>\n",
       "</table>\n",
       "</div>"
      ],
      "text/plain": [
       "       AveragePrice  Total Volume          4046          4225          4770  \\\n",
       "count  18249.000000  1.824900e+04  1.824900e+04  1.824900e+04  1.824900e+04   \n",
       "mean       1.405978  8.506440e+05  2.930084e+05  2.951546e+05  2.283974e+04   \n",
       "std        0.402677  3.453545e+06  1.264989e+06  1.204120e+06  1.074641e+05   \n",
       "min        0.440000  8.456000e+01  0.000000e+00  0.000000e+00  0.000000e+00   \n",
       "25%        1.100000  1.083858e+04  8.540700e+02  3.008780e+03  0.000000e+00   \n",
       "50%        1.370000  1.073768e+05  8.645300e+03  2.906102e+04  1.849900e+02   \n",
       "75%        1.660000  4.329623e+05  1.110202e+05  1.502069e+05  6.243420e+03   \n",
       "max        3.250000  6.250565e+07  2.274362e+07  2.047057e+07  2.546439e+06   \n",
       "\n",
       "         Total Bags    Small Bags    Large Bags    XLarge Bags          year  \n",
       "count  1.824900e+04  1.824900e+04  1.824900e+04   18249.000000  18249.000000  \n",
       "mean   2.396392e+05  1.821947e+05  5.433809e+04    3106.426507   2016.147899  \n",
       "std    9.862424e+05  7.461785e+05  2.439660e+05   17692.894652      0.939938  \n",
       "min    0.000000e+00  0.000000e+00  0.000000e+00       0.000000   2015.000000  \n",
       "25%    5.088640e+03  2.849420e+03  1.274700e+02       0.000000   2015.000000  \n",
       "50%    3.974383e+04  2.636282e+04  2.647710e+03       0.000000   2016.000000  \n",
       "75%    1.107834e+05  8.333767e+04  2.202925e+04     132.500000   2017.000000  \n",
       "max    1.937313e+07  1.338459e+07  5.719097e+06  551693.650000   2018.000000  "
      ]
     },
     "execution_count": 10,
     "metadata": {},
     "output_type": "execute_result"
    }
   ],
   "source": [
    "df.describe()"
   ]
  },
  {
   "cell_type": "code",
   "execution_count": 11,
   "metadata": {},
   "outputs": [
    {
     "data": {
      "text/html": [
       "<div>\n",
       "<style scoped>\n",
       "    .dataframe tbody tr th:only-of-type {\n",
       "        vertical-align: middle;\n",
       "    }\n",
       "\n",
       "    .dataframe tbody tr th {\n",
       "        vertical-align: top;\n",
       "    }\n",
       "\n",
       "    .dataframe thead th {\n",
       "        text-align: right;\n",
       "    }\n",
       "</style>\n",
       "<table border=\"1\" class=\"dataframe\">\n",
       "  <thead>\n",
       "    <tr style=\"text-align: right;\">\n",
       "      <th></th>\n",
       "      <th>AveragePrice</th>\n",
       "      <th>Total Volume</th>\n",
       "      <th>4046</th>\n",
       "      <th>4225</th>\n",
       "      <th>4770</th>\n",
       "      <th>Total Bags</th>\n",
       "      <th>Small Bags</th>\n",
       "      <th>Large Bags</th>\n",
       "      <th>XLarge Bags</th>\n",
       "      <th>type</th>\n",
       "      <th>year</th>\n",
       "      <th>region</th>\n",
       "    </tr>\n",
       "  </thead>\n",
       "  <tbody>\n",
       "    <tr>\n",
       "      <th>count</th>\n",
       "      <td>18249.000000</td>\n",
       "      <td>1.824900e+04</td>\n",
       "      <td>1.824900e+04</td>\n",
       "      <td>1.824900e+04</td>\n",
       "      <td>1.824900e+04</td>\n",
       "      <td>1.824900e+04</td>\n",
       "      <td>1.824900e+04</td>\n",
       "      <td>1.824900e+04</td>\n",
       "      <td>18249.000000</td>\n",
       "      <td>18249</td>\n",
       "      <td>18249.000000</td>\n",
       "      <td>18249</td>\n",
       "    </tr>\n",
       "    <tr>\n",
       "      <th>unique</th>\n",
       "      <td>NaN</td>\n",
       "      <td>NaN</td>\n",
       "      <td>NaN</td>\n",
       "      <td>NaN</td>\n",
       "      <td>NaN</td>\n",
       "      <td>NaN</td>\n",
       "      <td>NaN</td>\n",
       "      <td>NaN</td>\n",
       "      <td>NaN</td>\n",
       "      <td>2</td>\n",
       "      <td>NaN</td>\n",
       "      <td>54</td>\n",
       "    </tr>\n",
       "    <tr>\n",
       "      <th>top</th>\n",
       "      <td>NaN</td>\n",
       "      <td>NaN</td>\n",
       "      <td>NaN</td>\n",
       "      <td>NaN</td>\n",
       "      <td>NaN</td>\n",
       "      <td>NaN</td>\n",
       "      <td>NaN</td>\n",
       "      <td>NaN</td>\n",
       "      <td>NaN</td>\n",
       "      <td>conventional</td>\n",
       "      <td>NaN</td>\n",
       "      <td>SanDiego</td>\n",
       "    </tr>\n",
       "    <tr>\n",
       "      <th>freq</th>\n",
       "      <td>NaN</td>\n",
       "      <td>NaN</td>\n",
       "      <td>NaN</td>\n",
       "      <td>NaN</td>\n",
       "      <td>NaN</td>\n",
       "      <td>NaN</td>\n",
       "      <td>NaN</td>\n",
       "      <td>NaN</td>\n",
       "      <td>NaN</td>\n",
       "      <td>9126</td>\n",
       "      <td>NaN</td>\n",
       "      <td>338</td>\n",
       "    </tr>\n",
       "    <tr>\n",
       "      <th>mean</th>\n",
       "      <td>1.405978</td>\n",
       "      <td>8.506440e+05</td>\n",
       "      <td>2.930084e+05</td>\n",
       "      <td>2.951546e+05</td>\n",
       "      <td>2.283974e+04</td>\n",
       "      <td>2.396392e+05</td>\n",
       "      <td>1.821947e+05</td>\n",
       "      <td>5.433809e+04</td>\n",
       "      <td>3106.426507</td>\n",
       "      <td>NaN</td>\n",
       "      <td>2016.147899</td>\n",
       "      <td>NaN</td>\n",
       "    </tr>\n",
       "    <tr>\n",
       "      <th>std</th>\n",
       "      <td>0.402677</td>\n",
       "      <td>3.453545e+06</td>\n",
       "      <td>1.264989e+06</td>\n",
       "      <td>1.204120e+06</td>\n",
       "      <td>1.074641e+05</td>\n",
       "      <td>9.862424e+05</td>\n",
       "      <td>7.461785e+05</td>\n",
       "      <td>2.439660e+05</td>\n",
       "      <td>17692.894652</td>\n",
       "      <td>NaN</td>\n",
       "      <td>0.939938</td>\n",
       "      <td>NaN</td>\n",
       "    </tr>\n",
       "    <tr>\n",
       "      <th>min</th>\n",
       "      <td>0.440000</td>\n",
       "      <td>8.456000e+01</td>\n",
       "      <td>0.000000e+00</td>\n",
       "      <td>0.000000e+00</td>\n",
       "      <td>0.000000e+00</td>\n",
       "      <td>0.000000e+00</td>\n",
       "      <td>0.000000e+00</td>\n",
       "      <td>0.000000e+00</td>\n",
       "      <td>0.000000</td>\n",
       "      <td>NaN</td>\n",
       "      <td>2015.000000</td>\n",
       "      <td>NaN</td>\n",
       "    </tr>\n",
       "    <tr>\n",
       "      <th>25%</th>\n",
       "      <td>1.100000</td>\n",
       "      <td>1.083858e+04</td>\n",
       "      <td>8.540700e+02</td>\n",
       "      <td>3.008780e+03</td>\n",
       "      <td>0.000000e+00</td>\n",
       "      <td>5.088640e+03</td>\n",
       "      <td>2.849420e+03</td>\n",
       "      <td>1.274700e+02</td>\n",
       "      <td>0.000000</td>\n",
       "      <td>NaN</td>\n",
       "      <td>2015.000000</td>\n",
       "      <td>NaN</td>\n",
       "    </tr>\n",
       "    <tr>\n",
       "      <th>50%</th>\n",
       "      <td>1.370000</td>\n",
       "      <td>1.073768e+05</td>\n",
       "      <td>8.645300e+03</td>\n",
       "      <td>2.906102e+04</td>\n",
       "      <td>1.849900e+02</td>\n",
       "      <td>3.974383e+04</td>\n",
       "      <td>2.636282e+04</td>\n",
       "      <td>2.647710e+03</td>\n",
       "      <td>0.000000</td>\n",
       "      <td>NaN</td>\n",
       "      <td>2016.000000</td>\n",
       "      <td>NaN</td>\n",
       "    </tr>\n",
       "    <tr>\n",
       "      <th>75%</th>\n",
       "      <td>1.660000</td>\n",
       "      <td>4.329623e+05</td>\n",
       "      <td>1.110202e+05</td>\n",
       "      <td>1.502069e+05</td>\n",
       "      <td>6.243420e+03</td>\n",
       "      <td>1.107834e+05</td>\n",
       "      <td>8.333767e+04</td>\n",
       "      <td>2.202925e+04</td>\n",
       "      <td>132.500000</td>\n",
       "      <td>NaN</td>\n",
       "      <td>2017.000000</td>\n",
       "      <td>NaN</td>\n",
       "    </tr>\n",
       "    <tr>\n",
       "      <th>max</th>\n",
       "      <td>3.250000</td>\n",
       "      <td>6.250565e+07</td>\n",
       "      <td>2.274362e+07</td>\n",
       "      <td>2.047057e+07</td>\n",
       "      <td>2.546439e+06</td>\n",
       "      <td>1.937313e+07</td>\n",
       "      <td>1.338459e+07</td>\n",
       "      <td>5.719097e+06</td>\n",
       "      <td>551693.650000</td>\n",
       "      <td>NaN</td>\n",
       "      <td>2018.000000</td>\n",
       "      <td>NaN</td>\n",
       "    </tr>\n",
       "  </tbody>\n",
       "</table>\n",
       "</div>"
      ],
      "text/plain": [
       "        AveragePrice  Total Volume          4046          4225          4770  \\\n",
       "count   18249.000000  1.824900e+04  1.824900e+04  1.824900e+04  1.824900e+04   \n",
       "unique           NaN           NaN           NaN           NaN           NaN   \n",
       "top              NaN           NaN           NaN           NaN           NaN   \n",
       "freq             NaN           NaN           NaN           NaN           NaN   \n",
       "mean        1.405978  8.506440e+05  2.930084e+05  2.951546e+05  2.283974e+04   \n",
       "std         0.402677  3.453545e+06  1.264989e+06  1.204120e+06  1.074641e+05   \n",
       "min         0.440000  8.456000e+01  0.000000e+00  0.000000e+00  0.000000e+00   \n",
       "25%         1.100000  1.083858e+04  8.540700e+02  3.008780e+03  0.000000e+00   \n",
       "50%         1.370000  1.073768e+05  8.645300e+03  2.906102e+04  1.849900e+02   \n",
       "75%         1.660000  4.329623e+05  1.110202e+05  1.502069e+05  6.243420e+03   \n",
       "max         3.250000  6.250565e+07  2.274362e+07  2.047057e+07  2.546439e+06   \n",
       "\n",
       "          Total Bags    Small Bags    Large Bags    XLarge Bags          type  \\\n",
       "count   1.824900e+04  1.824900e+04  1.824900e+04   18249.000000         18249   \n",
       "unique           NaN           NaN           NaN            NaN             2   \n",
       "top              NaN           NaN           NaN            NaN  conventional   \n",
       "freq             NaN           NaN           NaN            NaN          9126   \n",
       "mean    2.396392e+05  1.821947e+05  5.433809e+04    3106.426507           NaN   \n",
       "std     9.862424e+05  7.461785e+05  2.439660e+05   17692.894652           NaN   \n",
       "min     0.000000e+00  0.000000e+00  0.000000e+00       0.000000           NaN   \n",
       "25%     5.088640e+03  2.849420e+03  1.274700e+02       0.000000           NaN   \n",
       "50%     3.974383e+04  2.636282e+04  2.647710e+03       0.000000           NaN   \n",
       "75%     1.107834e+05  8.333767e+04  2.202925e+04     132.500000           NaN   \n",
       "max     1.937313e+07  1.338459e+07  5.719097e+06  551693.650000           NaN   \n",
       "\n",
       "                year    region  \n",
       "count   18249.000000     18249  \n",
       "unique           NaN        54  \n",
       "top              NaN  SanDiego  \n",
       "freq             NaN       338  \n",
       "mean     2016.147899       NaN  \n",
       "std         0.939938       NaN  \n",
       "min      2015.000000       NaN  \n",
       "25%      2015.000000       NaN  \n",
       "50%      2016.000000       NaN  \n",
       "75%      2017.000000       NaN  \n",
       "max      2018.000000       NaN  "
      ]
     },
     "execution_count": 11,
     "metadata": {},
     "output_type": "execute_result"
    }
   ],
   "source": [
    "df.describe(include='all')"
   ]
  },
  {
   "cell_type": "code",
   "execution_count": 12,
   "metadata": {},
   "outputs": [
    {
     "data": {
      "text/plain": [
       "<AxesSubplot:>"
      ]
     },
     "execution_count": 12,
     "metadata": {},
     "output_type": "execute_result"
    },
    {
     "data": {
      "image/png": "[encoded data removed]",
      "text/plain": [
       "<Figure size 432x288 with 2 Axes>"
      ]
     },
     "metadata": {
      "needs_background": "light"
     },
     "output_type": "display_data"
    }
   ],
   "source": [
    "#checking missing values again \n",
    "sns.heatmap(df.isnull(),cmap=\"BuPu_r\")"
   ]
  },
  {
   "cell_type": "code",
   "execution_count": 13,
   "metadata": {},
   "outputs": [
    {
     "name": "stdout",
     "output_type": "stream",
     "text": [
      "<class 'pandas.core.frame.DataFrame'>\n",
      "RangeIndex: 18249 entries, 0 to 18248\n",
      "Data columns (total 12 columns):\n",
      " #   Column        Non-Null Count  Dtype  \n",
      "---  ------        --------------  -----  \n",
      " 0   AveragePrice  18249 non-null  float64\n",
      " 1   Total Volume  18249 non-null  float64\n",
      " 2   4046          18249 non-null  float64\n",
      " 3   4225          18249 non-null  float64\n",
      " 4   4770          18249 non-null  float64\n",
      " 5   Total Bags    18249 non-null  float64\n",
      " 6   Small Bags    18249 non-null  float64\n",
      " 7   Large Bags    18249 non-null  float64\n",
      " 8   XLarge Bags   18249 non-null  float64\n",
      " 9   type          18249 non-null  object \n",
      " 10  year          18249 non-null  int64  \n",
      " 11  region        18249 non-null  object \n",
      "dtypes: float64(9), int64(1), object(2)\n",
      "memory usage: 1.7+ MB\n"
     ]
    }
   ],
   "source": [
    "df.info()"
   ]
  },
  {
   "cell_type": "code",
   "execution_count": 14,
   "metadata": {},
   "outputs": [
    {
     "data": {
      "text/plain": [
       "AveragePrice    0\n",
       "Total Volume    0\n",
       "4046            0\n",
       "4225            0\n",
       "4770            0\n",
       "Total Bags      0\n",
       "Small Bags      0\n",
       "Large Bags      0\n",
       "XLarge Bags     0\n",
       "type            0\n",
       "year            0\n",
       "region          0\n",
       "dtype: int64"
      ]
     },
     "execution_count": 14,
     "metadata": {},
     "output_type": "execute_result"
    }
   ],
   "source": [
    "df.isnull().sum()"
   ]
  },
  {
   "cell_type": "code",
   "execution_count": 15,
   "metadata": {},
   "outputs": [
    {
     "data": {
      "text/plain": [
       "AveragePrice     0.580303\n",
       "Total Volume     9.007687\n",
       "4046             8.648220\n",
       "4225             8.942466\n",
       "4770            10.159396\n",
       "Total Bags       9.756072\n",
       "Small Bags       9.540660\n",
       "Large Bags       9.796455\n",
       "XLarge Bags     13.139751\n",
       "year             0.215339\n",
       "dtype: float64"
      ]
     },
     "execution_count": 15,
     "metadata": {},
     "output_type": "execute_result"
    }
   ],
   "source": [
    "df.skew()"
   ]
  },
  {
   "cell_type": "raw",
   "metadata": {},
   "source": [
    "Observation\n",
    "-heatmap shows no null values \n",
    "-Skewness is too high"
   ]
  },
  {
   "cell_type": "code",
   "execution_count": 16,
   "metadata": {},
   "outputs": [
    {
     "data": {
      "text/html": [
       "<div>\n",
       "<style scoped>\n",
       "    .dataframe tbody tr th:only-of-type {\n",
       "        vertical-align: middle;\n",
       "    }\n",
       "\n",
       "    .dataframe tbody tr th {\n",
       "        vertical-align: top;\n",
       "    }\n",
       "\n",
       "    .dataframe thead th {\n",
       "        text-align: right;\n",
       "    }\n",
       "</style>\n",
       "<table border=\"1\" class=\"dataframe\">\n",
       "  <thead>\n",
       "    <tr style=\"text-align: right;\">\n",
       "      <th></th>\n",
       "      <th>AveragePrice</th>\n",
       "      <th>Total Volume</th>\n",
       "      <th>4046</th>\n",
       "      <th>4225</th>\n",
       "      <th>4770</th>\n",
       "      <th>Total Bags</th>\n",
       "      <th>Small Bags</th>\n",
       "      <th>Large Bags</th>\n",
       "      <th>XLarge Bags</th>\n",
       "      <th>type</th>\n",
       "      <th>year</th>\n",
       "      <th>region</th>\n",
       "    </tr>\n",
       "  </thead>\n",
       "  <tbody>\n",
       "    <tr>\n",
       "      <th>0</th>\n",
       "      <td>86</td>\n",
       "      <td>14553</td>\n",
       "      <td>331</td>\n",
       "      <td>13781</td>\n",
       "      <td>8276</td>\n",
       "      <td>16743</td>\n",
       "      <td>15964</td>\n",
       "      <td>14619</td>\n",
       "      <td>0</td>\n",
       "      <td>0</td>\n",
       "      <td>0</td>\n",
       "      <td>0</td>\n",
       "    </tr>\n",
       "    <tr>\n",
       "      <th>1</th>\n",
       "      <td>88</td>\n",
       "      <td>13299</td>\n",
       "      <td>14522</td>\n",
       "      <td>11961</td>\n",
       "      <td>9182</td>\n",
       "      <td>17659</td>\n",
       "      <td>16795</td>\n",
       "      <td>14880</td>\n",
       "      <td>0</td>\n",
       "      <td>0</td>\n",
       "      <td>0</td>\n",
       "      <td>0</td>\n",
       "    </tr>\n",
       "    <tr>\n",
       "      <th>2</th>\n",
       "      <td>46</td>\n",
       "      <td>1383</td>\n",
       "      <td>15849</td>\n",
       "      <td>636</td>\n",
       "      <td>1629</td>\n",
       "      <td>16130</td>\n",
       "      <td>15288</td>\n",
       "      <td>241</td>\n",
       "      <td>0</td>\n",
       "      <td>0</td>\n",
       "      <td>0</td>\n",
       "      <td>0</td>\n",
       "    </tr>\n",
       "    <tr>\n",
       "      <th>3</th>\n",
       "      <td>61</td>\n",
       "      <td>16346</td>\n",
       "      <td>1032</td>\n",
       "      <td>15830</td>\n",
       "      <td>10363</td>\n",
       "      <td>12768</td>\n",
       "      <td>11859</td>\n",
       "      <td>1955</td>\n",
       "      <td>0</td>\n",
       "      <td>0</td>\n",
       "      <td>0</td>\n",
       "      <td>0</td>\n",
       "    </tr>\n",
       "    <tr>\n",
       "      <th>4</th>\n",
       "      <td>81</td>\n",
       "      <td>12763</td>\n",
       "      <td>17238</td>\n",
       "      <td>11788</td>\n",
       "      <td>10559</td>\n",
       "      <td>13336</td>\n",
       "      <td>12365</td>\n",
       "      <td>4544</td>\n",
       "      <td>0</td>\n",
       "      <td>0</td>\n",
       "      <td>0</td>\n",
       "      <td>0</td>\n",
       "    </tr>\n",
       "    <tr>\n",
       "      <th>...</th>\n",
       "      <td>...</td>\n",
       "      <td>...</td>\n",
       "      <td>...</td>\n",
       "      <td>...</td>\n",
       "      <td>...</td>\n",
       "      <td>...</td>\n",
       "      <td>...</td>\n",
       "      <td>...</td>\n",
       "      <td>...</td>\n",
       "      <td>...</td>\n",
       "      <td>...</td>\n",
       "      <td>...</td>\n",
       "    </tr>\n",
       "    <tr>\n",
       "      <th>18244</th>\n",
       "      <td>116</td>\n",
       "      <td>4209</td>\n",
       "      <td>5833</td>\n",
       "      <td>3107</td>\n",
       "      <td>0</td>\n",
       "      <td>2571</td>\n",
       "      <td>1985</td>\n",
       "      <td>9743</td>\n",
       "      <td>0</td>\n",
       "      <td>1</td>\n",
       "      <td>3</td>\n",
       "      <td>53</td>\n",
       "    </tr>\n",
       "    <tr>\n",
       "      <th>18245</th>\n",
       "      <td>124</td>\n",
       "      <td>2650</td>\n",
       "      <td>1452</td>\n",
       "      <td>9660</td>\n",
       "      <td>0</td>\n",
       "      <td>17406</td>\n",
       "      <td>16344</td>\n",
       "      <td>7765</td>\n",
       "      <td>0</td>\n",
       "      <td>1</td>\n",
       "      <td>3</td>\n",
       "      <td>53</td>\n",
       "    </tr>\n",
       "    <tr>\n",
       "      <th>18246</th>\n",
       "      <td>140</td>\n",
       "      <td>2569</td>\n",
       "      <td>1453</td>\n",
       "      <td>6838</td>\n",
       "      <td>10402</td>\n",
       "      <td>17542</td>\n",
       "      <td>16750</td>\n",
       "      <td>9549</td>\n",
       "      <td>0</td>\n",
       "      <td>1</td>\n",
       "      <td>3</td>\n",
       "      <td>53</td>\n",
       "    </tr>\n",
       "    <tr>\n",
       "      <th>18247</th>\n",
       "      <td>146</td>\n",
       "      <td>3836</td>\n",
       "      <td>3531</td>\n",
       "      <td>8482</td>\n",
       "      <td>10400</td>\n",
       "      <td>836</td>\n",
       "      <td>683</td>\n",
       "      <td>10660</td>\n",
       "      <td>0</td>\n",
       "      <td>1</td>\n",
       "      <td>3</td>\n",
       "      <td>53</td>\n",
       "    </tr>\n",
       "    <tr>\n",
       "      <th>18248</th>\n",
       "      <td>115</td>\n",
       "      <td>4387</td>\n",
       "      <td>8281</td>\n",
       "      <td>6514</td>\n",
       "      <td>4823</td>\n",
       "      <td>1613</td>\n",
       "      <td>1371</td>\n",
       "      <td>6335</td>\n",
       "      <td>0</td>\n",
       "      <td>1</td>\n",
       "      <td>3</td>\n",
       "      <td>53</td>\n",
       "    </tr>\n",
       "  </tbody>\n",
       "</table>\n",
       "<p>18249 rows × 12 columns</p>\n",
       "</div>"
      ],
      "text/plain": [
       "       AveragePrice  Total Volume   4046   4225   4770  Total Bags  \\\n",
       "0                86         14553    331  13781   8276       16743   \n",
       "1                88         13299  14522  11961   9182       17659   \n",
       "2                46          1383  15849    636   1629       16130   \n",
       "3                61         16346   1032  15830  10363       12768   \n",
       "4                81         12763  17238  11788  10559       13336   \n",
       "...             ...           ...    ...    ...    ...         ...   \n",
       "18244           116          4209   5833   3107      0        2571   \n",
       "18245           124          2650   1452   9660      0       17406   \n",
       "18246           140          2569   1453   6838  10402       17542   \n",
       "18247           146          3836   3531   8482  10400         836   \n",
       "18248           115          4387   8281   6514   4823        1613   \n",
       "\n",
       "       Small Bags  Large Bags  XLarge Bags  type  year  region  \n",
       "0           15964       14619            0     0     0       0  \n",
       "1           16795       14880            0     0     0       0  \n",
       "2           15288         241            0     0     0       0  \n",
       "3           11859        1955            0     0     0       0  \n",
       "4           12365        4544            0     0     0       0  \n",
       "...           ...         ...          ...   ...   ...     ...  \n",
       "18244        1985        9743            0     1     3      53  \n",
       "18245       16344        7765            0     1     3      53  \n",
       "18246       16750        9549            0     1     3      53  \n",
       "18247         683       10660            0     1     3      53  \n",
       "18248        1371        6335            0     1     3      53  \n",
       "\n",
       "[18249 rows x 12 columns]"
      ]
     },
     "execution_count": 16,
     "metadata": {},
     "output_type": "execute_result"
    }
   ],
   "source": [
    "from sklearn.preprocessing import LabelEncoder\n",
    "\n",
    "column_list=[]\n",
    "for i in df:\n",
    "    column_list.append (i)\n",
    "column_list\n",
    "\n",
    "#encoding all the columns \n",
    "le=LabelEncoder()\n",
    "\n",
    "for val in column_list:\n",
    "    df[val]=le.fit_transform(df[val].astype(str))\n",
    "    #astype describes that the data present are in str format\n",
    "df"
   ]
  },
  {
   "cell_type": "code",
   "execution_count": 17,
   "metadata": {},
   "outputs": [
    {
     "name": "stdout",
     "output_type": "stream",
     "text": [
      "<class 'pandas.core.frame.DataFrame'>\n",
      "RangeIndex: 18249 entries, 0 to 18248\n",
      "Data columns (total 12 columns):\n",
      " #   Column        Non-Null Count  Dtype\n",
      "---  ------        --------------  -----\n",
      " 0   AveragePrice  18249 non-null  int32\n",
      " 1   Total Volume  18249 non-null  int32\n",
      " 2   4046          18249 non-null  int32\n",
      " 3   4225          18249 non-null  int32\n",
      " 4   4770          18249 non-null  int32\n",
      " 5   Total Bags    18249 non-null  int32\n",
      " 6   Small Bags    18249 non-null  int32\n",
      " 7   Large Bags    18249 non-null  int32\n",
      " 8   XLarge Bags   18249 non-null  int32\n",
      " 9   type          18249 non-null  int32\n",
      " 10  year          18249 non-null  int32\n",
      " 11  region        18249 non-null  int32\n",
      "dtypes: int32(12)\n",
      "memory usage: 855.5 KB\n"
     ]
    }
   ],
   "source": [
    "df.info()"
   ]
  },
  {
   "cell_type": "code",
   "execution_count": 18,
   "metadata": {},
   "outputs": [
    {
     "data": {
      "text/plain": [
       "AveragePrice    0.577300\n",
       "Total Volume   -0.000127\n",
       "4046            0.001769\n",
       "4225            0.000249\n",
       "4770            0.434847\n",
       "Total Bags      0.000124\n",
       "Small Bags      0.004342\n",
       "Large Bags      0.105801\n",
       "XLarge Bags     1.521652\n",
       "type            0.000329\n",
       "year            0.215339\n",
       "region          0.000030\n",
       "dtype: float64"
      ]
     },
     "execution_count": 18,
     "metadata": {},
     "output_type": "execute_result"
    }
   ],
   "source": [
    "df.skew()"
   ]
  },
  {
   "cell_type": "code",
   "execution_count": 19,
   "metadata": {},
   "outputs": [
    {
     "data": {
      "text/plain": [
       "AveragePrice       AxesSubplot(0.125,0.536818;0.110714x0.343182)\n",
       "Total Volume    AxesSubplot(0.257857,0.536818;0.110714x0.343182)\n",
       "4046            AxesSubplot(0.390714,0.536818;0.110714x0.343182)\n",
       "4225            AxesSubplot(0.523571,0.536818;0.110714x0.343182)\n",
       "4770            AxesSubplot(0.656429,0.536818;0.110714x0.343182)\n",
       "Total Bags      AxesSubplot(0.789286,0.536818;0.110714x0.343182)\n",
       "Small Bags            AxesSubplot(0.125,0.125;0.110714x0.343182)\n",
       "Large Bags         AxesSubplot(0.257857,0.125;0.110714x0.343182)\n",
       "XLarge Bags        AxesSubplot(0.390714,0.125;0.110714x0.343182)\n",
       "type               AxesSubplot(0.523571,0.125;0.110714x0.343182)\n",
       "year               AxesSubplot(0.656429,0.125;0.110714x0.343182)\n",
       "region             AxesSubplot(0.789286,0.125;0.110714x0.343182)\n",
       "dtype: object"
      ]
     },
     "execution_count": 19,
     "metadata": {},
     "output_type": "execute_result"
    },
    {
     "data": {
      "image/png": "[encoded data removed]",
      "text/plain": [
       "<Figure size 1440x1080 with 12 Axes>"
      ]
     },
     "metadata": {
      "needs_background": "light"
     },
     "output_type": "display_data"
    }
   ],
   "source": [
    "# to have all box plots in the same viz\n",
    "df.plot(kind=\"box\",subplots=True,layout=(2,6) , figsize=(20,15))"
   ]
  },
  {
   "cell_type": "code",
   "execution_count": 20,
   "metadata": {},
   "outputs": [
    {
     "name": "stdout",
     "output_type": "stream",
     "text": [
      "0.5773001738276418\n"
     ]
    },
    {
     "data": {
      "text/plain": [
       "<AxesSubplot:xlabel='AveragePrice'>"
      ]
     },
     "execution_count": 20,
     "metadata": {},
     "output_type": "execute_result"
    },
    {
     "data": {
      "image/png": "[encoded data removed]",
      "text/plain": [
       "<Figure size 432x288 with 1 Axes>"
      ]
     },
     "metadata": {
      "needs_background": "light"
     },
     "output_type": "display_data"
    }
   ],
   "source": [
    "print(df[\"AveragePrice\"].skew())\n",
    "sns.boxplot(df[\"AveragePrice\"],color=\"r\")"
   ]
  },
  {
   "cell_type": "code",
   "execution_count": 21,
   "metadata": {},
   "outputs": [
    {
     "data": {
      "text/plain": [
       "<AxesSubplot:xlabel='AveragePrice', ylabel='Density'>"
      ]
     },
     "execution_count": 21,
     "metadata": {},
     "output_type": "execute_result"
    },
    {
     "data": {
      "image/png": "[encoded data removed]",
      "text/plain": [
       "<Figure size 432x288 with 1 Axes>"
      ]
     },
     "metadata": {
      "needs_background": "light"
     },
     "output_type": "display_data"
    }
   ],
   "source": [
    "sns.distplot(df[\"AveragePrice\"],color=\"r\")"
   ]
  },
  {
   "cell_type": "code",
   "execution_count": 22,
   "metadata": {},
   "outputs": [
    {
     "name": "stdout",
     "output_type": "stream",
     "text": [
      "1.5216518169135278\n"
     ]
    },
    {
     "data": {
      "text/plain": [
       "<AxesSubplot:xlabel='XLarge Bags'>"
      ]
     },
     "execution_count": 22,
     "metadata": {},
     "output_type": "execute_result"
    },
    {
     "data": {
      "image/png": "[encoded data removed]",
      "text/plain": [
       "<Figure size 432x288 with 1 Axes>"
      ]
     },
     "metadata": {
      "needs_background": "light"
     },
     "output_type": "display_data"
    }
   ],
   "source": [
    "print(df[\"XLarge Bags\"].skew())\n",
    "sns.boxplot(df[\"XLarge Bags\"],color=\"r\")"
   ]
  },
  {
   "cell_type": "code",
   "execution_count": 23,
   "metadata": {},
   "outputs": [
    {
     "data": {
      "text/plain": [
       "<AxesSubplot:xlabel='XLarge Bags', ylabel='Density'>"
      ]
     },
     "execution_count": 23,
     "metadata": {},
     "output_type": "execute_result"
    },
    {
     "data": {
      "image/png": "[encoded data removed]",
      "text/plain": [
       "<Figure size 432x288 with 1 Axes>"
      ]
     },
     "metadata": {
      "needs_background": "light"
     },
     "output_type": "display_data"
    }
   ],
   "source": [
    "sns.distplot(df[\"XLarge Bags\"],color=\"r\")"
   ]
  },
  {
   "cell_type": "code",
   "execution_count": 24,
   "metadata": {},
   "outputs": [
    {
     "data": {
      "text/plain": [
       "array([[0.18868869, 1.03235668, 1.61737754, ..., 0.99983562, 1.22128204,\n",
       "        1.7002522 ],\n",
       "       [0.13900282, 0.7941363 , 1.12028078, ..., 0.99983562, 1.22128204,\n",
       "        1.7002522 ],\n",
       "       [1.18240612, 1.4695272 , 1.37627913, ..., 0.99983562, 1.22128204,\n",
       "        1.7002522 ],\n",
       "       ...,\n",
       "       [1.15282984, 1.24422467, 1.40092679, ..., 1.00016441, 1.97050371,\n",
       "        1.70081131],\n",
       "       [1.30188745, 1.00353471, 1.00004919, ..., 1.00016441, 1.97050371,\n",
       "        1.70081131],\n",
       "       [0.53175644, 0.89886211, 0.08370242, ..., 1.00016441, 1.97050371,\n",
       "        1.70081131]])"
      ]
     },
     "execution_count": 24,
     "metadata": {},
     "output_type": "execute_result"
    }
   ],
   "source": [
    "#identifying outliers \n",
    "from scipy.stats import zscore\n",
    "z=np.abs(zscore(df))\n",
    "z"
   ]
  },
  {
   "cell_type": "code",
   "execution_count": 25,
   "metadata": {},
   "outputs": [
    {
     "data": {
      "text/plain": [
       "(18249, 12)"
      ]
     },
     "execution_count": 25,
     "metadata": {},
     "output_type": "execute_result"
    }
   ],
   "source": [
    "df.shape"
   ]
  },
  {
   "cell_type": "code",
   "execution_count": 26,
   "metadata": {},
   "outputs": [],
   "source": [
    "#keeping the raw data and creating a new dataframe\n",
    "dfn=df[(z<3).all(axis=1)]"
   ]
  },
  {
   "cell_type": "code",
   "execution_count": null,
   "metadata": {},
   "outputs": [],
   "source": []
  },
  {
   "cell_type": "code",
   "execution_count": 27,
   "metadata": {},
   "outputs": [
    {
     "data": {
      "text/plain": [
       "(18118, 12)"
      ]
     },
     "execution_count": 27,
     "metadata": {},
     "output_type": "execute_result"
    }
   ],
   "source": [
    "dfn.shape"
   ]
  },
  {
   "cell_type": "markdown",
   "metadata": {},
   "source": [
    "Observation \n",
    "less than 1% data lost in removing outliers "
   ]
  },
  {
   "cell_type": "code",
   "execution_count": 28,
   "metadata": {},
   "outputs": [
    {
     "name": "stdout",
     "output_type": "stream",
     "text": [
      "0.4003227181716069\n"
     ]
    },
    {
     "data": {
      "text/plain": [
       "<AxesSubplot:xlabel='AveragePrice'>"
      ]
     },
     "execution_count": 28,
     "metadata": {},
     "output_type": "execute_result"
    },
    {
     "data": {
      "image/png": "[encoded data removed]",
      "text/plain": [
       "<Figure size 432x288 with 1 Axes>"
      ]
     },
     "metadata": {
      "needs_background": "light"
     },
     "output_type": "display_data"
    }
   ],
   "source": [
    "print(dfn[\"AveragePrice\"].skew())\n",
    "sns.boxplot(df[\"AveragePrice\"],color=\"g\")"
   ]
  },
  {
   "cell_type": "code",
   "execution_count": 29,
   "metadata": {},
   "outputs": [
    {
     "data": {
      "text/plain": [
       "<AxesSubplot:xlabel='AveragePrice', ylabel='Density'>"
      ]
     },
     "execution_count": 29,
     "metadata": {},
     "output_type": "execute_result"
    },
    {
     "data": {
      "image/png": "[encoded data removed]",
      "text/plain": [
       "<Figure size 432x288 with 1 Axes>"
      ]
     },
     "metadata": {
      "needs_background": "light"
     },
     "output_type": "display_data"
    }
   ],
   "source": [
    "sns.distplot(dfn[\"AveragePrice\"],color=\"g\")"
   ]
  },
  {
   "cell_type": "code",
   "execution_count": 30,
   "metadata": {},
   "outputs": [
    {
     "name": "stdout",
     "output_type": "stream",
     "text": [
      "1.5145053371397725\n"
     ]
    },
    {
     "data": {
      "text/plain": [
       "<AxesSubplot:xlabel='XLarge Bags'>"
      ]
     },
     "execution_count": 30,
     "metadata": {},
     "output_type": "execute_result"
    },
    {
     "data": {
      "image/png": "[encoded data removed]",
      "text/plain": [
       "<Figure size 432x288 with 1 Axes>"
      ]
     },
     "metadata": {
      "needs_background": "light"
     },
     "output_type": "display_data"
    }
   ],
   "source": [
    "print(dfn[\"XLarge Bags\"].skew())\n",
    "sns.boxplot(df[\"XLarge Bags\"],color=\"g\")"
   ]
  },
  {
   "cell_type": "code",
   "execution_count": 31,
   "metadata": {},
   "outputs": [
    {
     "data": {
      "text/plain": [
       "<AxesSubplot:xlabel='XLarge Bags', ylabel='Density'>"
      ]
     },
     "execution_count": 31,
     "metadata": {},
     "output_type": "execute_result"
    },
    {
     "data": {
      "image/png": "[encoded data removed]",
      "text/plain": [
       "<Figure size 432x288 with 1 Axes>"
      ]
     },
     "metadata": {
      "needs_background": "light"
     },
     "output_type": "display_data"
    }
   ],
   "source": [
    "sns.distplot(dfn[\"XLarge Bags\"],color=\"g\")"
   ]
  },
  {
   "cell_type": "code",
   "execution_count": 32,
   "metadata": {},
   "outputs": [
    {
     "name": "stdout",
     "output_type": "stream",
     "text": [
      "1.5145053371397725\n"
     ]
    },
    {
     "data": {
      "text/plain": [
       "1.0707627552867298"
      ]
     },
     "execution_count": 32,
     "metadata": {},
     "output_type": "execute_result"
    },
    {
     "data": {
      "image/png": "[encoded data removed]",
      "text/plain": [
       "<Figure size 432x288 with 1 Axes>"
      ]
     },
     "metadata": {
      "needs_background": "light"
     },
     "output_type": "display_data"
    }
   ],
   "source": [
    "print(dfn[\"XLarge Bags\"].skew())\n",
    "dfn[\"XLarge Bags\"]=np.sqrt(dfn[\"XLarge Bags\"] )\n",
    "sns.distplot(dfn[\"XLarge Bags\"],color=\"y\")\n",
    "dfn[\"XLarge Bags\"].skew()\n"
   ]
  },
  {
   "cell_type": "code",
   "execution_count": 33,
   "metadata": {},
   "outputs": [
    {
     "name": "stdout",
     "output_type": "stream",
     "text": [
      "1.0707627552867298\n"
     ]
    },
    {
     "data": {
      "text/plain": [
       "0.8304421406047816"
      ]
     },
     "execution_count": 33,
     "metadata": {},
     "output_type": "execute_result"
    },
    {
     "data": {
      "image/png": "[encoded data removed]",
      "text/plain": [
       "<Figure size 432x288 with 1 Axes>"
      ]
     },
     "metadata": {
      "needs_background": "light"
     },
     "output_type": "display_data"
    }
   ],
   "source": [
    "print(dfn[\"XLarge Bags\"].skew())\n",
    "dfn[\"XLarge Bags\"]=np.sqrt(dfn[\"XLarge Bags\"])\n",
    "sns.distplot(dfn[\"XLarge Bags\"],color=\"y\")\n",
    "dfn[\"XLarge Bags\"].skew()"
   ]
  },
  {
   "cell_type": "code",
   "execution_count": 34,
   "metadata": {},
   "outputs": [
    {
     "name": "stdout",
     "output_type": "stream",
     "text": [
      "0.8304421406047816\n"
     ]
    },
    {
     "data": {
      "text/plain": [
       "0.7247447490713275"
      ]
     },
     "execution_count": 34,
     "metadata": {},
     "output_type": "execute_result"
    },
    {
     "data": {
      "image/png": "[encoded data removed]",
      "text/plain": [
       "<Figure size 432x288 with 1 Axes>"
      ]
     },
     "metadata": {
      "needs_background": "light"
     },
     "output_type": "display_data"
    }
   ],
   "source": [
    "print(dfn[\"XLarge Bags\"].skew())\n",
    "dfn[\"XLarge Bags\"]=np.sqrt(dfn[\"XLarge Bags\"])\n",
    "sns.distplot(dfn[\"XLarge Bags\"],color=\"y\")\n",
    "dfn[\"XLarge Bags\"].skew()"
   ]
  },
  {
   "cell_type": "code",
   "execution_count": 35,
   "metadata": {},
   "outputs": [
    {
     "data": {
      "text/plain": [
       "AveragePrice    0.400323\n",
       "Total Volume   -0.005693\n",
       "4046            0.000124\n",
       "4225            0.001803\n",
       "4770            0.429762\n",
       "Total Bags     -0.002065\n",
       "Small Bags      0.002575\n",
       "Large Bags      0.103957\n",
       "XLarge Bags     0.724745\n",
       "type            0.014794\n",
       "year            0.224198\n",
       "region          0.006878\n",
       "dtype: float64"
      ]
     },
     "execution_count": 35,
     "metadata": {},
     "output_type": "execute_result"
    }
   ],
   "source": [
    "dfn.skew()"
   ]
  },
  {
   "cell_type": "code",
   "execution_count": 36,
   "metadata": {},
   "outputs": [
    {
     "data": {
      "text/plain": [
       "AveragePrice       AxesSubplot(0.125,0.536818;0.110714x0.343182)\n",
       "Total Volume    AxesSubplot(0.257857,0.536818;0.110714x0.343182)\n",
       "4046            AxesSubplot(0.390714,0.536818;0.110714x0.343182)\n",
       "4225            AxesSubplot(0.523571,0.536818;0.110714x0.343182)\n",
       "4770            AxesSubplot(0.656429,0.536818;0.110714x0.343182)\n",
       "Total Bags      AxesSubplot(0.789286,0.536818;0.110714x0.343182)\n",
       "Small Bags            AxesSubplot(0.125,0.125;0.110714x0.343182)\n",
       "Large Bags         AxesSubplot(0.257857,0.125;0.110714x0.343182)\n",
       "XLarge Bags        AxesSubplot(0.390714,0.125;0.110714x0.343182)\n",
       "type               AxesSubplot(0.523571,0.125;0.110714x0.343182)\n",
       "year               AxesSubplot(0.656429,0.125;0.110714x0.343182)\n",
       "region             AxesSubplot(0.789286,0.125;0.110714x0.343182)\n",
       "dtype: object"
      ]
     },
     "execution_count": 36,
     "metadata": {},
     "output_type": "execute_result"
    },
    {
     "data": {
      "image/png": "[encoded data removed]",
      "text/plain": [
       "<Figure size 1440x1080 with 12 Axes>"
      ]
     },
     "metadata": {
      "needs_background": "light"
     },
     "output_type": "display_data"
    }
   ],
   "source": [
    "# to have all box plots in the same viz\n",
    "dfn.plot(kind=\"box\",subplots=True,layout=(2,6) , figsize=(20,15))"
   ]
  },
  {
   "cell_type": "markdown",
   "metadata": {},
   "source": [
    "### Working towards classification problem "
   ]
  },
  {
   "cell_type": "code",
   "execution_count": 37,
   "metadata": {},
   "outputs": [
    {
     "data": {
      "text/html": [
       "<div>\n",
       "<style scoped>\n",
       "    .dataframe tbody tr th:only-of-type {\n",
       "        vertical-align: middle;\n",
       "    }\n",
       "\n",
       "    .dataframe tbody tr th {\n",
       "        vertical-align: top;\n",
       "    }\n",
       "\n",
       "    .dataframe thead th {\n",
       "        text-align: right;\n",
       "    }\n",
       "</style>\n",
       "<table border=\"1\" class=\"dataframe\">\n",
       "  <thead>\n",
       "    <tr style=\"text-align: right;\">\n",
       "      <th></th>\n",
       "      <th>AveragePrice</th>\n",
       "      <th>Total Volume</th>\n",
       "      <th>4046</th>\n",
       "      <th>4225</th>\n",
       "      <th>4770</th>\n",
       "      <th>Total Bags</th>\n",
       "      <th>Small Bags</th>\n",
       "      <th>Large Bags</th>\n",
       "      <th>XLarge Bags</th>\n",
       "      <th>type</th>\n",
       "      <th>year</th>\n",
       "      <th>region</th>\n",
       "    </tr>\n",
       "  </thead>\n",
       "  <tbody>\n",
       "    <tr>\n",
       "      <th>AveragePrice</th>\n",
       "      <td>1.000</td>\n",
       "      <td>-0.022</td>\n",
       "      <td>-0.032</td>\n",
       "      <td>0.018</td>\n",
       "      <td>-0.231</td>\n",
       "      <td>-0.001</td>\n",
       "      <td>-0.041</td>\n",
       "      <td>-0.158</td>\n",
       "      <td>-0.415</td>\n",
       "      <td>0.620</td>\n",
       "      <td>0.085</td>\n",
       "      <td>-0.025</td>\n",
       "    </tr>\n",
       "    <tr>\n",
       "      <th>Total Volume</th>\n",
       "      <td>-0.022</td>\n",
       "      <td>1.000</td>\n",
       "      <td>-0.101</td>\n",
       "      <td>-0.108</td>\n",
       "      <td>0.010</td>\n",
       "      <td>-0.091</td>\n",
       "      <td>-0.038</td>\n",
       "      <td>0.000</td>\n",
       "      <td>0.040</td>\n",
       "      <td>-0.055</td>\n",
       "      <td>-0.015</td>\n",
       "      <td>0.089</td>\n",
       "    </tr>\n",
       "    <tr>\n",
       "      <th>4046</th>\n",
       "      <td>-0.032</td>\n",
       "      <td>-0.101</td>\n",
       "      <td>1.000</td>\n",
       "      <td>0.021</td>\n",
       "      <td>0.042</td>\n",
       "      <td>-0.008</td>\n",
       "      <td>-0.026</td>\n",
       "      <td>0.023</td>\n",
       "      <td>-0.001</td>\n",
       "      <td>-0.019</td>\n",
       "      <td>-0.005</td>\n",
       "      <td>-0.103</td>\n",
       "    </tr>\n",
       "    <tr>\n",
       "      <th>4225</th>\n",
       "      <td>0.018</td>\n",
       "      <td>-0.108</td>\n",
       "      <td>0.021</td>\n",
       "      <td>1.000</td>\n",
       "      <td>0.033</td>\n",
       "      <td>0.012</td>\n",
       "      <td>0.031</td>\n",
       "      <td>0.033</td>\n",
       "      <td>-0.046</td>\n",
       "      <td>-0.001</td>\n",
       "      <td>0.016</td>\n",
       "      <td>-0.097</td>\n",
       "    </tr>\n",
       "    <tr>\n",
       "      <th>4770</th>\n",
       "      <td>-0.231</td>\n",
       "      <td>0.010</td>\n",
       "      <td>0.042</td>\n",
       "      <td>0.033</td>\n",
       "      <td>1.000</td>\n",
       "      <td>0.022</td>\n",
       "      <td>0.053</td>\n",
       "      <td>0.118</td>\n",
       "      <td>0.292</td>\n",
       "      <td>-0.443</td>\n",
       "      <td>-0.009</td>\n",
       "      <td>0.046</td>\n",
       "    </tr>\n",
       "    <tr>\n",
       "      <th>Total Bags</th>\n",
       "      <td>-0.001</td>\n",
       "      <td>-0.091</td>\n",
       "      <td>-0.008</td>\n",
       "      <td>0.012</td>\n",
       "      <td>0.022</td>\n",
       "      <td>1.000</td>\n",
       "      <td>0.465</td>\n",
       "      <td>0.036</td>\n",
       "      <td>-0.002</td>\n",
       "      <td>-0.044</td>\n",
       "      <td>-0.029</td>\n",
       "      <td>0.009</td>\n",
       "    </tr>\n",
       "    <tr>\n",
       "      <th>Small Bags</th>\n",
       "      <td>-0.041</td>\n",
       "      <td>-0.038</td>\n",
       "      <td>-0.026</td>\n",
       "      <td>0.031</td>\n",
       "      <td>0.053</td>\n",
       "      <td>0.465</td>\n",
       "      <td>1.000</td>\n",
       "      <td>0.022</td>\n",
       "      <td>0.042</td>\n",
       "      <td>-0.098</td>\n",
       "      <td>0.003</td>\n",
       "      <td>0.028</td>\n",
       "    </tr>\n",
       "    <tr>\n",
       "      <th>Large Bags</th>\n",
       "      <td>-0.158</td>\n",
       "      <td>0.000</td>\n",
       "      <td>0.023</td>\n",
       "      <td>0.033</td>\n",
       "      <td>0.118</td>\n",
       "      <td>0.036</td>\n",
       "      <td>0.022</td>\n",
       "      <td>1.000</td>\n",
       "      <td>0.148</td>\n",
       "      <td>-0.177</td>\n",
       "      <td>0.090</td>\n",
       "      <td>0.009</td>\n",
       "    </tr>\n",
       "    <tr>\n",
       "      <th>XLarge Bags</th>\n",
       "      <td>-0.415</td>\n",
       "      <td>0.040</td>\n",
       "      <td>-0.001</td>\n",
       "      <td>-0.046</td>\n",
       "      <td>0.292</td>\n",
       "      <td>-0.002</td>\n",
       "      <td>0.042</td>\n",
       "      <td>0.148</td>\n",
       "      <td>1.000</td>\n",
       "      <td>-0.678</td>\n",
       "      <td>0.157</td>\n",
       "      <td>0.016</td>\n",
       "    </tr>\n",
       "    <tr>\n",
       "      <th>type</th>\n",
       "      <td>0.620</td>\n",
       "      <td>-0.055</td>\n",
       "      <td>-0.019</td>\n",
       "      <td>-0.001</td>\n",
       "      <td>-0.443</td>\n",
       "      <td>-0.044</td>\n",
       "      <td>-0.098</td>\n",
       "      <td>-0.177</td>\n",
       "      <td>-0.678</td>\n",
       "      <td>1.000</td>\n",
       "      <td>-0.004</td>\n",
       "      <td>-0.004</td>\n",
       "    </tr>\n",
       "    <tr>\n",
       "      <th>year</th>\n",
       "      <td>0.085</td>\n",
       "      <td>-0.015</td>\n",
       "      <td>-0.005</td>\n",
       "      <td>0.016</td>\n",
       "      <td>-0.009</td>\n",
       "      <td>-0.029</td>\n",
       "      <td>0.003</td>\n",
       "      <td>0.090</td>\n",
       "      <td>0.157</td>\n",
       "      <td>-0.004</td>\n",
       "      <td>1.000</td>\n",
       "      <td>-0.001</td>\n",
       "    </tr>\n",
       "    <tr>\n",
       "      <th>region</th>\n",
       "      <td>-0.025</td>\n",
       "      <td>0.089</td>\n",
       "      <td>-0.103</td>\n",
       "      <td>-0.097</td>\n",
       "      <td>0.046</td>\n",
       "      <td>0.009</td>\n",
       "      <td>0.028</td>\n",
       "      <td>0.009</td>\n",
       "      <td>0.016</td>\n",
       "      <td>-0.004</td>\n",
       "      <td>-0.001</td>\n",
       "      <td>1.000</td>\n",
       "    </tr>\n",
       "  </tbody>\n",
       "</table>\n",
       "</div>"
      ],
      "text/plain": [
       "              AveragePrice  Total Volume   4046   4225   4770  Total Bags  \\\n",
       "AveragePrice         1.000        -0.022 -0.032  0.018 -0.231      -0.001   \n",
       "Total Volume        -0.022         1.000 -0.101 -0.108  0.010      -0.091   \n",
       "4046                -0.032        -0.101  1.000  0.021  0.042      -0.008   \n",
       "4225                 0.018        -0.108  0.021  1.000  0.033       0.012   \n",
       "4770                -0.231         0.010  0.042  0.033  1.000       0.022   \n",
       "Total Bags          -0.001        -0.091 -0.008  0.012  0.022       1.000   \n",
       "Small Bags          -0.041        -0.038 -0.026  0.031  0.053       0.465   \n",
       "Large Bags          -0.158         0.000  0.023  0.033  0.118       0.036   \n",
       "XLarge Bags         -0.415         0.040 -0.001 -0.046  0.292      -0.002   \n",
       "type                 0.620        -0.055 -0.019 -0.001 -0.443      -0.044   \n",
       "year                 0.085        -0.015 -0.005  0.016 -0.009      -0.029   \n",
       "region              -0.025         0.089 -0.103 -0.097  0.046       0.009   \n",
       "\n",
       "              Small Bags  Large Bags  XLarge Bags   type   year  region  \n",
       "AveragePrice      -0.041      -0.158       -0.415  0.620  0.085  -0.025  \n",
       "Total Volume      -0.038       0.000        0.040 -0.055 -0.015   0.089  \n",
       "4046              -0.026       0.023       -0.001 -0.019 -0.005  -0.103  \n",
       "4225               0.031       0.033       -0.046 -0.001  0.016  -0.097  \n",
       "4770               0.053       0.118        0.292 -0.443 -0.009   0.046  \n",
       "Total Bags         0.465       0.036       -0.002 -0.044 -0.029   0.009  \n",
       "Small Bags         1.000       0.022        0.042 -0.098  0.003   0.028  \n",
       "Large Bags         0.022       1.000        0.148 -0.177  0.090   0.009  \n",
       "XLarge Bags        0.042       0.148        1.000 -0.678  0.157   0.016  \n",
       "type              -0.098      -0.177       -0.678  1.000 -0.004  -0.004  \n",
       "year               0.003       0.090        0.157 -0.004  1.000  -0.001  \n",
       "region             0.028       0.009        0.016 -0.004 -0.001   1.000  "
      ]
     },
     "execution_count": 37,
     "metadata": {},
     "output_type": "execute_result"
    }
   ],
   "source": [
    "cor=dfn.corr()\n",
    "round(cor,3) "
   ]
  },
  {
   "cell_type": "code",
   "execution_count": 38,
   "metadata": {
    "scrolled": true
   },
   "outputs": [
    {
     "data": {
      "text/plain": [
       "<AxesSubplot:>"
      ]
     },
     "execution_count": 38,
     "metadata": {},
     "output_type": "execute_result"
    },
    {
     "data": {
      "image/png": "[encoded data removed]",
      "text/plain": [
       "<Figure size 1080x720 with 2 Axes>"
      ]
     },
     "metadata": {
      "needs_background": "light"
     },
     "output_type": "display_data"
    }
   ],
   "source": [
    "plt.figure(figsize=(15,10))\n",
    "sns.heatmap(round(cor,3),annot=True)"
   ]
  },
  {
   "cell_type": "raw",
   "metadata": {},
   "source": [
    "Observation-\n",
    "type hike and averageprice rating are highly related \n",
    "total bags and small bags are highly corelated "
   ]
  },
  {
   "cell_type": "code",
   "execution_count": 39,
   "metadata": {},
   "outputs": [
    {
     "data": {
      "text/html": [
       "<div>\n",
       "<style scoped>\n",
       "    .dataframe tbody tr th:only-of-type {\n",
       "        vertical-align: middle;\n",
       "    }\n",
       "\n",
       "    .dataframe tbody tr th {\n",
       "        vertical-align: top;\n",
       "    }\n",
       "\n",
       "    .dataframe thead th {\n",
       "        text-align: right;\n",
       "    }\n",
       "</style>\n",
       "<table border=\"1\" class=\"dataframe\">\n",
       "  <thead>\n",
       "    <tr style=\"text-align: right;\">\n",
       "      <th></th>\n",
       "      <th>variables</th>\n",
       "      <th>VIF FACTOR</th>\n",
       "    </tr>\n",
       "  </thead>\n",
       "  <tbody>\n",
       "    <tr>\n",
       "      <th>0</th>\n",
       "      <td>AveragePrice</td>\n",
       "      <td>9.786880</td>\n",
       "    </tr>\n",
       "    <tr>\n",
       "      <th>1</th>\n",
       "      <td>Total Volume</td>\n",
       "      <td>3.581783</td>\n",
       "    </tr>\n",
       "    <tr>\n",
       "      <th>2</th>\n",
       "      <td>4046</td>\n",
       "      <td>3.414236</td>\n",
       "    </tr>\n",
       "    <tr>\n",
       "      <th>3</th>\n",
       "      <td>4225</td>\n",
       "      <td>3.607161</td>\n",
       "    </tr>\n",
       "    <tr>\n",
       "      <th>4</th>\n",
       "      <td>4770</td>\n",
       "      <td>2.520495</td>\n",
       "    </tr>\n",
       "    <tr>\n",
       "      <th>5</th>\n",
       "      <td>Total Bags</td>\n",
       "      <td>4.927538</td>\n",
       "    </tr>\n",
       "    <tr>\n",
       "      <th>6</th>\n",
       "      <td>Small Bags</td>\n",
       "      <td>4.877887</td>\n",
       "    </tr>\n",
       "    <tr>\n",
       "      <th>7</th>\n",
       "      <td>Large Bags</td>\n",
       "      <td>2.882938</td>\n",
       "    </tr>\n",
       "    <tr>\n",
       "      <th>8</th>\n",
       "      <td>XLarge Bags</td>\n",
       "      <td>2.637204</td>\n",
       "    </tr>\n",
       "    <tr>\n",
       "      <th>9</th>\n",
       "      <td>type</td>\n",
       "      <td>5.362504</td>\n",
       "    </tr>\n",
       "    <tr>\n",
       "      <th>10</th>\n",
       "      <td>year</td>\n",
       "      <td>2.639165</td>\n",
       "    </tr>\n",
       "    <tr>\n",
       "      <th>11</th>\n",
       "      <td>region</td>\n",
       "      <td>3.623188</td>\n",
       "    </tr>\n",
       "  </tbody>\n",
       "</table>\n",
       "</div>"
      ],
      "text/plain": [
       "       variables  VIF FACTOR\n",
       "0   AveragePrice    9.786880\n",
       "1   Total Volume    3.581783\n",
       "2           4046    3.414236\n",
       "3           4225    3.607161\n",
       "4           4770    2.520495\n",
       "5     Total Bags    4.927538\n",
       "6     Small Bags    4.877887\n",
       "7     Large Bags    2.882938\n",
       "8    XLarge Bags    2.637204\n",
       "9           type    5.362504\n",
       "10          year    2.639165\n",
       "11        region    3.623188"
      ]
     },
     "execution_count": 39,
     "metadata": {},
     "output_type": "execute_result"
    }
   ],
   "source": [
    "from statsmodels.stats.outliers_influence import variance_inflation_factor\n",
    "\n",
    "def calc_vif(ds):\n",
    "    vif=pd.DataFrame()\n",
    "    vif[\"variables\"]=ds.columns\n",
    "    vif[\"VIF FACTOR\"]=[variance_inflation_factor (ds.values,i) for i in range (ds.shape[1])]\n",
    "    return (vif)\n",
    "\n",
    "calc_vif(dfn)"
   ]
  },
  {
   "cell_type": "raw",
   "metadata": {},
   "source": [
    "Observation\n",
    "average price is having high VIF . "
   ]
  },
  {
   "cell_type": "code",
   "execution_count": 40,
   "metadata": {},
   "outputs": [],
   "source": [
    "dfn.drop(\"AveragePrice\",axis=1,inplace=True)"
   ]
  },
  {
   "cell_type": "code",
   "execution_count": 41,
   "metadata": {},
   "outputs": [
    {
     "data": {
      "text/html": [
       "<div>\n",
       "<style scoped>\n",
       "    .dataframe tbody tr th:only-of-type {\n",
       "        vertical-align: middle;\n",
       "    }\n",
       "\n",
       "    .dataframe tbody tr th {\n",
       "        vertical-align: top;\n",
       "    }\n",
       "\n",
       "    .dataframe thead th {\n",
       "        text-align: right;\n",
       "    }\n",
       "</style>\n",
       "<table border=\"1\" class=\"dataframe\">\n",
       "  <thead>\n",
       "    <tr style=\"text-align: right;\">\n",
       "      <th></th>\n",
       "      <th>Total Volume</th>\n",
       "      <th>4046</th>\n",
       "      <th>4225</th>\n",
       "      <th>4770</th>\n",
       "      <th>Total Bags</th>\n",
       "      <th>Small Bags</th>\n",
       "      <th>Large Bags</th>\n",
       "      <th>XLarge Bags</th>\n",
       "      <th>type</th>\n",
       "      <th>year</th>\n",
       "      <th>region</th>\n",
       "    </tr>\n",
       "  </thead>\n",
       "  <tbody>\n",
       "    <tr>\n",
       "      <th>0</th>\n",
       "      <td>14553</td>\n",
       "      <td>331</td>\n",
       "      <td>13781</td>\n",
       "      <td>8276</td>\n",
       "      <td>16743</td>\n",
       "      <td>15964</td>\n",
       "      <td>14619</td>\n",
       "      <td>0.0</td>\n",
       "      <td>0</td>\n",
       "      <td>0</td>\n",
       "      <td>0</td>\n",
       "    </tr>\n",
       "    <tr>\n",
       "      <th>1</th>\n",
       "      <td>13299</td>\n",
       "      <td>14522</td>\n",
       "      <td>11961</td>\n",
       "      <td>9182</td>\n",
       "      <td>17659</td>\n",
       "      <td>16795</td>\n",
       "      <td>14880</td>\n",
       "      <td>0.0</td>\n",
       "      <td>0</td>\n",
       "      <td>0</td>\n",
       "      <td>0</td>\n",
       "    </tr>\n",
       "    <tr>\n",
       "      <th>2</th>\n",
       "      <td>1383</td>\n",
       "      <td>15849</td>\n",
       "      <td>636</td>\n",
       "      <td>1629</td>\n",
       "      <td>16130</td>\n",
       "      <td>15288</td>\n",
       "      <td>241</td>\n",
       "      <td>0.0</td>\n",
       "      <td>0</td>\n",
       "      <td>0</td>\n",
       "      <td>0</td>\n",
       "    </tr>\n",
       "    <tr>\n",
       "      <th>3</th>\n",
       "      <td>16346</td>\n",
       "      <td>1032</td>\n",
       "      <td>15830</td>\n",
       "      <td>10363</td>\n",
       "      <td>12768</td>\n",
       "      <td>11859</td>\n",
       "      <td>1955</td>\n",
       "      <td>0.0</td>\n",
       "      <td>0</td>\n",
       "      <td>0</td>\n",
       "      <td>0</td>\n",
       "    </tr>\n",
       "    <tr>\n",
       "      <th>4</th>\n",
       "      <td>12763</td>\n",
       "      <td>17238</td>\n",
       "      <td>11788</td>\n",
       "      <td>10559</td>\n",
       "      <td>13336</td>\n",
       "      <td>12365</td>\n",
       "      <td>4544</td>\n",
       "      <td>0.0</td>\n",
       "      <td>0</td>\n",
       "      <td>0</td>\n",
       "      <td>0</td>\n",
       "    </tr>\n",
       "    <tr>\n",
       "      <th>...</th>\n",
       "      <td>...</td>\n",
       "      <td>...</td>\n",
       "      <td>...</td>\n",
       "      <td>...</td>\n",
       "      <td>...</td>\n",
       "      <td>...</td>\n",
       "      <td>...</td>\n",
       "      <td>...</td>\n",
       "      <td>...</td>\n",
       "      <td>...</td>\n",
       "      <td>...</td>\n",
       "    </tr>\n",
       "    <tr>\n",
       "      <th>18244</th>\n",
       "      <td>4209</td>\n",
       "      <td>5833</td>\n",
       "      <td>3107</td>\n",
       "      <td>0</td>\n",
       "      <td>2571</td>\n",
       "      <td>1985</td>\n",
       "      <td>9743</td>\n",
       "      <td>0.0</td>\n",
       "      <td>1</td>\n",
       "      <td>3</td>\n",
       "      <td>53</td>\n",
       "    </tr>\n",
       "    <tr>\n",
       "      <th>18245</th>\n",
       "      <td>2650</td>\n",
       "      <td>1452</td>\n",
       "      <td>9660</td>\n",
       "      <td>0</td>\n",
       "      <td>17406</td>\n",
       "      <td>16344</td>\n",
       "      <td>7765</td>\n",
       "      <td>0.0</td>\n",
       "      <td>1</td>\n",
       "      <td>3</td>\n",
       "      <td>53</td>\n",
       "    </tr>\n",
       "    <tr>\n",
       "      <th>18246</th>\n",
       "      <td>2569</td>\n",
       "      <td>1453</td>\n",
       "      <td>6838</td>\n",
       "      <td>10402</td>\n",
       "      <td>17542</td>\n",
       "      <td>16750</td>\n",
       "      <td>9549</td>\n",
       "      <td>0.0</td>\n",
       "      <td>1</td>\n",
       "      <td>3</td>\n",
       "      <td>53</td>\n",
       "    </tr>\n",
       "    <tr>\n",
       "      <th>18247</th>\n",
       "      <td>3836</td>\n",
       "      <td>3531</td>\n",
       "      <td>8482</td>\n",
       "      <td>10400</td>\n",
       "      <td>836</td>\n",
       "      <td>683</td>\n",
       "      <td>10660</td>\n",
       "      <td>0.0</td>\n",
       "      <td>1</td>\n",
       "      <td>3</td>\n",
       "      <td>53</td>\n",
       "    </tr>\n",
       "    <tr>\n",
       "      <th>18248</th>\n",
       "      <td>4387</td>\n",
       "      <td>8281</td>\n",
       "      <td>6514</td>\n",
       "      <td>4823</td>\n",
       "      <td>1613</td>\n",
       "      <td>1371</td>\n",
       "      <td>6335</td>\n",
       "      <td>0.0</td>\n",
       "      <td>1</td>\n",
       "      <td>3</td>\n",
       "      <td>53</td>\n",
       "    </tr>\n",
       "  </tbody>\n",
       "</table>\n",
       "<p>18118 rows × 11 columns</p>\n",
       "</div>"
      ],
      "text/plain": [
       "       Total Volume   4046   4225   4770  Total Bags  Small Bags  Large Bags  \\\n",
       "0             14553    331  13781   8276       16743       15964       14619   \n",
       "1             13299  14522  11961   9182       17659       16795       14880   \n",
       "2              1383  15849    636   1629       16130       15288         241   \n",
       "3             16346   1032  15830  10363       12768       11859        1955   \n",
       "4             12763  17238  11788  10559       13336       12365        4544   \n",
       "...             ...    ...    ...    ...         ...         ...         ...   \n",
       "18244          4209   5833   3107      0        2571        1985        9743   \n",
       "18245          2650   1452   9660      0       17406       16344        7765   \n",
       "18246          2569   1453   6838  10402       17542       16750        9549   \n",
       "18247          3836   3531   8482  10400         836         683       10660   \n",
       "18248          4387   8281   6514   4823        1613        1371        6335   \n",
       "\n",
       "       XLarge Bags  type  year  region  \n",
       "0              0.0     0     0       0  \n",
       "1              0.0     0     0       0  \n",
       "2              0.0     0     0       0  \n",
       "3              0.0     0     0       0  \n",
       "4              0.0     0     0       0  \n",
       "...            ...   ...   ...     ...  \n",
       "18244          0.0     1     3      53  \n",
       "18245          0.0     1     3      53  \n",
       "18246          0.0     1     3      53  \n",
       "18247          0.0     1     3      53  \n",
       "18248          0.0     1     3      53  \n",
       "\n",
       "[18118 rows x 11 columns]"
      ]
     },
     "execution_count": 41,
     "metadata": {},
     "output_type": "execute_result"
    }
   ],
   "source": [
    "dfn"
   ]
  },
  {
   "cell_type": "code",
   "execution_count": 42,
   "metadata": {},
   "outputs": [
    {
     "data": {
      "text/plain": [
       "<AxesSubplot:>"
      ]
     },
     "execution_count": 42,
     "metadata": {},
     "output_type": "execute_result"
    },
    {
     "data": {
      "image/png": "[encoded data removed]",
      "text/plain": [
       "<Figure size 1080x720 with 2 Axes>"
      ]
     },
     "metadata": {
      "needs_background": "light"
     },
     "output_type": "display_data"
    }
   ],
   "source": [
    "plt.figure(figsize=(15,10))\n",
    "sns.heatmap(round(cor,2),annot=True,cmap=\"binary\")"
   ]
  },
  {
   "cell_type": "code",
   "execution_count": 43,
   "metadata": {},
   "outputs": [],
   "source": [
    "# splitting target \n",
    "x=df.drop(\"region\",axis=1)\n",
    "y=df[\"region\"]\n"
   ]
  },
  {
   "cell_type": "code",
   "execution_count": 44,
   "metadata": {},
   "outputs": [],
   "source": [
    "from sklearn.model_selection import train_test_split "
   ]
  },
  {
   "cell_type": "code",
   "execution_count": 45,
   "metadata": {},
   "outputs": [
    {
     "name": "stdout",
     "output_type": "stream",
     "text": [
      "best accuracy  is  0.4957077625570776 with random state  117\n"
     ]
    }
   ],
   "source": [
    "from sklearn.tree import DecisionTreeClassifier\n",
    "from sklearn.metrics import accuracy_score\n",
    "#saving best random state \n",
    "maxAccuracy=0\n",
    "maxRS=0\n",
    "for i in range (1,200):\n",
    "    x_train,x_test,y_train,y_test=train_test_split(x,y,test_size=0.30,random_state=i)\n",
    "    from sklearn.tree import DecisionTreeClassifier\n",
    "    dt=DecisionTreeClassifier()\n",
    "    dt.fit(x_train,y_train)\n",
    "    pred=dt.predict(x_test)\n",
    "    accu=accuracy_score(y_test,pred)\n",
    "    if accu>maxAccuracy:\n",
    "        maxAccuracy=accu\n",
    "        maxRS=i\n",
    "\n",
    "print(\"best accuracy  is \",maxAccuracy, \"with random state \",maxRS)\n",
    "\n",
    "\n",
    "#note- code running before using PCA "
   ]
  },
  {
   "cell_type": "code",
   "execution_count": 46,
   "metadata": {},
   "outputs": [
    {
     "data": {
      "text/plain": [
       "(18118, 11)"
      ]
     },
     "execution_count": 46,
     "metadata": {},
     "output_type": "execute_result"
    }
   ],
   "source": [
    "dfn.shape"
   ]
  },
  {
   "cell_type": "code",
   "execution_count": null,
   "metadata": {},
   "outputs": [],
   "source": []
  },
  {
   "cell_type": "code",
   "execution_count": 47,
   "metadata": {},
   "outputs": [],
   "source": [
    "from sklearn.decomposition import PCA\n",
    "PCa=PCA(n_components=9)"
   ]
  },
  {
   "cell_type": "raw",
   "metadata": {},
   "source": [
    "#saving best random state \n",
    "maxAccuracy=0\n",
    "maxRS=0\n",
    "for i in range (1,200):\n",
    "    x_train,x_test,y_train,y_test=train_test_split(x,y,test_size=0.30,random_state=i)\n",
    "    from sklearn.tree import DecisionTreeClassifier\n",
    "    dt=DecisionTreeClassifier()\n",
    "    dt.fit(x_train,y_train)\n",
    "    pred=dt.predict(x_test)\n",
    "    accu=accuracy_score(y_test,pred)\n",
    "    if accu>maxAccuracy:\n",
    "        maxAccuracy=accu\n",
    "        maxRS=i\n",
    "\n",
    "print(\"best accuracy  is \",maxAccuracy, \"with random state \",maxRS)\n",
    "\n",
    "\n",
    "#note- code running after using PCA "
   ]
  },
  {
   "cell_type": "raw",
   "metadata": {},
   "source": [
    "Obaservation -\n",
    " with using  PCA  the accuracy  decreases\n",
    " "
   ]
  },
  {
   "cell_type": "code",
   "execution_count": 48,
   "metadata": {},
   "outputs": [],
   "source": [
    "x_train,x_test,y_train,y_test=train_test_split(x,y,test_size=0.30,random_state=117)"
   ]
  },
  {
   "cell_type": "code",
   "execution_count": 49,
   "metadata": {},
   "outputs": [
    {
     "name": "stdout",
     "output_type": "stream",
     "text": [
      "              precision    recall  f1-score   support\n",
      "\n",
      "           0       0.44      0.44      0.44       100\n",
      "           1       0.40      0.47      0.43       103\n",
      "           2       0.61      0.55      0.57        99\n",
      "           3       0.52      0.49      0.50       104\n",
      "           4       0.50      0.59      0.55        91\n",
      "           5       0.47      0.45      0.46       108\n",
      "           6       0.58      0.55      0.57        94\n",
      "           7       0.57      0.61      0.59       103\n",
      "           8       0.59      0.62      0.61       106\n",
      "           9       0.51      0.50      0.51        88\n",
      "          10       0.41      0.36      0.38        98\n",
      "          11       0.50      0.56      0.53       106\n",
      "          12       0.62      0.58      0.60       109\n",
      "          13       0.50      0.51      0.50       112\n",
      "          14       0.26      0.30      0.28        90\n",
      "          15       0.50      0.53      0.51       104\n",
      "          16       0.54      0.50      0.52       102\n",
      "          17       0.63      0.57      0.60        90\n",
      "          18       0.42      0.37      0.39       103\n",
      "          19       0.50      0.46      0.48        97\n",
      "          20       0.49      0.52      0.51        93\n",
      "          21       0.45      0.43      0.44        99\n",
      "          22       0.52      0.56      0.54       101\n",
      "          23       0.46      0.52      0.49        98\n",
      "          24       0.28      0.32      0.30       100\n",
      "          25       0.60      0.56      0.58       104\n",
      "          26       0.35      0.37      0.36       109\n",
      "          27       0.47      0.46      0.47       103\n",
      "          28       0.53      0.62      0.57        96\n",
      "          29       0.62      0.65      0.63        99\n",
      "          30       0.61      0.60      0.61       108\n",
      "          31       0.37      0.41      0.39        94\n",
      "          32       0.45      0.49      0.47       102\n",
      "          33       0.55      0.58      0.57       112\n",
      "          34       0.48      0.44      0.46       110\n",
      "          35       0.62      0.60      0.61       119\n",
      "          36       0.42      0.46      0.44       112\n",
      "          37       0.46      0.58      0.51        88\n",
      "          38       0.55      0.52      0.54       109\n",
      "          39       0.53      0.39      0.45        97\n",
      "          40       0.65      0.59      0.62        93\n",
      "          41       0.43      0.46      0.44        96\n",
      "          42       0.62      0.70      0.66        91\n",
      "          43       0.36      0.32      0.34       104\n",
      "          44       0.54      0.55      0.55       101\n",
      "          45       0.51      0.51      0.51       116\n",
      "          46       0.63      0.59      0.61       101\n",
      "          47       0.49      0.39      0.44       100\n",
      "          48       0.33      0.28      0.31       109\n",
      "          49       0.53      0.53      0.53        99\n",
      "          50       0.26      0.22      0.24       111\n",
      "          51       0.66      0.68      0.67       102\n",
      "          52       0.52      0.45      0.48        96\n",
      "          53       0.39      0.41      0.40        96\n",
      "\n",
      "    accuracy                           0.49      5475\n",
      "   macro avg       0.50      0.50      0.49      5475\n",
      "weighted avg       0.50      0.49      0.49      5475\n",
      "\n"
     ]
    }
   ],
   "source": [
    "from sklearn.metrics import accuracy_score,confusion_matrix,classification_report \n",
    "\n",
    "DTC=DecisionTreeClassifier()\n",
    "DTC.fit(x_train,y_train)\n",
    "pred=DTC.predict(x_test)\n",
    "acc1=classification_report(y_test,pred)\n",
    "print(acc1)"
   ]
  },
  {
   "cell_type": "code",
   "execution_count": 50,
   "metadata": {},
   "outputs": [
    {
     "name": "stdout",
     "output_type": "stream",
     "text": [
      "              precision    recall  f1-score   support\n",
      "\n",
      "           0       0.71      0.64      0.67       100\n",
      "           1       0.64      0.75      0.69       103\n",
      "           2       0.74      0.79      0.76        99\n",
      "           3       0.75      0.60      0.66       104\n",
      "           4       0.72      0.87      0.79        91\n",
      "           5       0.76      0.67      0.71       108\n",
      "           6       0.66      0.69      0.67        94\n",
      "           7       0.68      0.74      0.71       103\n",
      "           8       0.79      0.79      0.79       106\n",
      "           9       0.68      0.83      0.74        88\n",
      "          10       0.62      0.65      0.63        98\n",
      "          11       0.63      0.76      0.69       106\n",
      "          12       0.72      0.78      0.75       109\n",
      "          13       0.64      0.63      0.64       112\n",
      "          14       0.59      0.49      0.53        90\n",
      "          15       0.76      0.76      0.76       104\n",
      "          16       0.77      0.70      0.73       102\n",
      "          17       0.77      0.74      0.76        90\n",
      "          18       0.61      0.58      0.59       103\n",
      "          19       0.60      0.76      0.67        97\n",
      "          20       0.79      0.65      0.71        93\n",
      "          21       0.70      0.68      0.69        99\n",
      "          22       0.72      0.78      0.75       101\n",
      "          23       0.71      0.67      0.69        98\n",
      "          24       0.60      0.50      0.54       100\n",
      "          25       0.76      0.87      0.81       104\n",
      "          26       0.63      0.54      0.58       109\n",
      "          27       0.66      0.78      0.71       103\n",
      "          28       0.73      0.77      0.75        96\n",
      "          29       0.75      0.83      0.78        99\n",
      "          30       0.83      0.80      0.81       108\n",
      "          31       0.61      0.54      0.58        94\n",
      "          32       0.80      0.63      0.70       102\n",
      "          33       0.80      0.78      0.79       112\n",
      "          34       0.73      0.75      0.74       110\n",
      "          35       0.79      0.87      0.82       119\n",
      "          36       0.73      0.57      0.64       112\n",
      "          37       0.57      0.70      0.63        88\n",
      "          38       0.70      0.68      0.69       109\n",
      "          39       0.66      0.67      0.66        97\n",
      "          40       0.72      0.80      0.76        93\n",
      "          41       0.69      0.64      0.66        96\n",
      "          42       0.79      0.81      0.80        91\n",
      "          43       0.64      0.69      0.66       104\n",
      "          44       0.70      0.70      0.70       101\n",
      "          45       0.76      0.81      0.79       116\n",
      "          46       0.71      0.84      0.77       101\n",
      "          47       0.73      0.61      0.66       100\n",
      "          48       0.63      0.50      0.56       109\n",
      "          49       0.69      0.67      0.68        99\n",
      "          50       0.58      0.38      0.46       111\n",
      "          51       0.81      0.92      0.86       102\n",
      "          52       0.73      0.77      0.75        96\n",
      "          53       0.69      0.56      0.62        96\n",
      "\n",
      "    accuracy                           0.70      5475\n",
      "   macro avg       0.70      0.70      0.70      5475\n",
      "weighted avg       0.70      0.70      0.70      5475\n",
      "\n"
     ]
    }
   ],
   "source": [
    "from sklearn.ensemble import RandomForestClassifier\n",
    "\n",
    "RF=RandomForestClassifier()\n",
    "RF.fit(x_train,y_train)\n",
    "pred=RF.predict(x_test)\n",
    "acc2=classification_report(y_test,pred)\n",
    "print(acc2)"
   ]
  },
  {
   "cell_type": "code",
   "execution_count": 51,
   "metadata": {},
   "outputs": [
    {
     "name": "stdout",
     "output_type": "stream",
     "text": [
      "              precision    recall  f1-score   support\n",
      "\n",
      "           0       0.30      0.35      0.32       100\n",
      "           1       0.23      0.32      0.27       103\n",
      "           2       0.29      0.42      0.34        99\n",
      "           3       0.38      0.23      0.29       104\n",
      "           4       0.20      0.32      0.25        91\n",
      "           5       0.40      0.25      0.31       108\n",
      "           6       0.29      0.29      0.29        94\n",
      "           7       0.29      0.32      0.31       103\n",
      "           8       0.44      0.54      0.49       106\n",
      "           9       0.23      0.49      0.31        88\n",
      "          10       0.15      0.41      0.22        98\n",
      "          11       0.25      0.41      0.31       106\n",
      "          12       0.33      0.42      0.37       109\n",
      "          13       0.19      0.22      0.20       112\n",
      "          14       0.21      0.18      0.19        90\n",
      "          15       0.35      0.35      0.35       104\n",
      "          16       0.24      0.33      0.28       102\n",
      "          17       0.41      0.46      0.43        90\n",
      "          18       0.39      0.14      0.20       103\n",
      "          19       0.31      0.40      0.35        97\n",
      "          20       0.22      0.25      0.23        93\n",
      "          21       0.25      0.16      0.20        99\n",
      "          22       0.35      0.33      0.34       101\n",
      "          23       0.38      0.40      0.39        98\n",
      "          24       0.24      0.27      0.25       100\n",
      "          25       0.38      0.29      0.33       104\n",
      "          26       0.36      0.04      0.07       109\n",
      "          27       0.30      0.34      0.32       103\n",
      "          28       0.46      0.36      0.41        96\n",
      "          29       0.25      0.25      0.25        99\n",
      "          30       0.29      0.38      0.33       108\n",
      "          31       0.20      0.24      0.22        94\n",
      "          32       0.31      0.31      0.31       102\n",
      "          33       0.30      0.27      0.28       112\n",
      "          34       0.23      0.15      0.18       110\n",
      "          35       0.40      0.32      0.35       119\n",
      "          36       0.53      0.21      0.30       112\n",
      "          37       0.28      0.22      0.24        88\n",
      "          38       0.15      0.07      0.10       109\n",
      "          39       0.22      0.29      0.25        97\n",
      "          40       0.29      0.69      0.41        93\n",
      "          41       0.34      0.40      0.37        96\n",
      "          42       0.46      0.32      0.38        91\n",
      "          43       0.25      0.28      0.26       104\n",
      "          44       0.32      0.23      0.27       101\n",
      "          45       0.45      0.26      0.33       116\n",
      "          46       0.23      0.21      0.22       101\n",
      "          47       0.20      0.12      0.15       100\n",
      "          48       0.20      0.07      0.11       109\n",
      "          49       0.26      0.29      0.27        99\n",
      "          50       0.08      0.04      0.05       111\n",
      "          51       0.42      0.48      0.45       102\n",
      "          52       0.54      0.26      0.35        96\n",
      "          53       0.32      0.12      0.18        96\n",
      "\n",
      "    accuracy                           0.29      5475\n",
      "   macro avg       0.30      0.29      0.28      5475\n",
      "weighted avg       0.30      0.29      0.28      5475\n",
      "\n"
     ]
    }
   ],
   "source": [
    "from sklearn.svm import SVC\n",
    "\n",
    "SVCc=SVC()\n",
    "SVCc.fit(x_train,y_train)\n",
    "pred=SVCc.predict(x_test)\n",
    "acc3=classification_report(y_test,pred)\n",
    "print(acc3)"
   ]
  },
  {
   "cell_type": "code",
   "execution_count": 52,
   "metadata": {},
   "outputs": [
    {
     "name": "stdout",
     "output_type": "stream",
     "text": [
      "              precision    recall  f1-score   support\n",
      "\n",
      "           0       0.27      0.38      0.31       100\n",
      "           1       0.32      0.54      0.40       103\n",
      "           2       0.37      0.54      0.43        99\n",
      "           3       0.33      0.41      0.37       104\n",
      "           4       0.33      0.59      0.42        91\n",
      "           5       0.28      0.32      0.30       108\n",
      "           6       0.37      0.53      0.44        94\n",
      "           7       0.45      0.62      0.52       103\n",
      "           8       0.53      0.60      0.57       106\n",
      "           9       0.40      0.56      0.47        88\n",
      "          10       0.32      0.46      0.38        98\n",
      "          11       0.40      0.58      0.47       106\n",
      "          12       0.50      0.57      0.53       109\n",
      "          13       0.35      0.34      0.35       112\n",
      "          14       0.31      0.32      0.32        90\n",
      "          15       0.47      0.56      0.51       104\n",
      "          16       0.35      0.36      0.36       102\n",
      "          17       0.32      0.32      0.32        90\n",
      "          18       0.41      0.38      0.39       103\n",
      "          19       0.47      0.62      0.53        97\n",
      "          20       0.47      0.38      0.42        93\n",
      "          21       0.42      0.43      0.43        99\n",
      "          22       0.46      0.53      0.50       101\n",
      "          23       0.50      0.48      0.49        98\n",
      "          24       0.37      0.32      0.34       100\n",
      "          25       0.50      0.56      0.53       104\n",
      "          26       0.37      0.27      0.31       109\n",
      "          27       0.51      0.47      0.49       103\n",
      "          28       0.45      0.48      0.46        96\n",
      "          29       0.41      0.38      0.40        99\n",
      "          30       0.51      0.37      0.43       108\n",
      "          31       0.34      0.33      0.34        94\n",
      "          32       0.44      0.31      0.37       102\n",
      "          33       0.54      0.40      0.46       112\n",
      "          34       0.52      0.45      0.48       110\n",
      "          35       0.60      0.49      0.54       119\n",
      "          36       0.56      0.35      0.43       112\n",
      "          37       0.43      0.40      0.41        88\n",
      "          38       0.43      0.34      0.38       109\n",
      "          39       0.47      0.39      0.43        97\n",
      "          40       0.52      0.63      0.57        93\n",
      "          41       0.50      0.46      0.48        96\n",
      "          42       0.58      0.54      0.56        91\n",
      "          43       0.49      0.30      0.37       104\n",
      "          44       0.49      0.45      0.47       101\n",
      "          45       0.57      0.51      0.54       116\n",
      "          46       0.56      0.46      0.50       101\n",
      "          47       0.53      0.31      0.39       100\n",
      "          48       0.36      0.15      0.21       109\n",
      "          49       0.36      0.24      0.29        99\n",
      "          50       0.33      0.19      0.24       111\n",
      "          51       0.66      0.79      0.72       102\n",
      "          52       0.62      0.53      0.57        96\n",
      "          53       0.47      0.29      0.36        96\n",
      "\n",
      "    accuracy                           0.44      5475\n",
      "   macro avg       0.44      0.44      0.43      5475\n",
      "weighted avg       0.44      0.44      0.43      5475\n",
      "\n"
     ]
    }
   ],
   "source": [
    "from sklearn.neighbors import KNeighborsClassifier\n",
    "\n",
    "KNN=KNeighborsClassifier()\n",
    "KNN.fit(x_train,y_train)\n",
    "pred=KNN.predict(x_test)\n",
    "acc3=classification_report(y_test,pred)\n",
    "print(acc3)"
   ]
  },
  {
   "cell_type": "code",
   "execution_count": 57,
   "metadata": {},
   "outputs": [
    {
     "name": "stdout",
     "output_type": "stream",
     "text": [
      "KNeighborsClassifier() 1.7644832535597823\n",
      "DecisionTreeClassifier() 1.6493991460126236\n",
      "SVC() 1.813804327590038\n",
      "RandomForestClassifier() 1.8247710388978637\n"
     ]
    }
   ],
   "source": [
    "# Cross validation\n",
    "from sklearn.model_selection import cross_val_score\n",
    "\n",
    "models=(KNN,DTC,SVCc,RF)\n",
    "for i in models:\n",
    "    print (i , cross_val_score(i,x,y,cv=2).mean()*100)\n",
    "\n",
    "    \n",
    "# keeping cv=2  after checking result of cv=15"
   ]
  },
  {
   "cell_type": "raw",
   "metadata": {},
   "source": [
    "observation-\n",
    "with increase CV value. the cross validation score increases "
   ]
  },
  {
   "cell_type": "raw",
   "metadata": {},
   "source": [
    "Observation \n",
    "the more the accuracy increases , the more the cross val score increases.  considering that as a gradual increasig change . taking randon forest classifier as final model . "
   ]
  },
  {
   "cell_type": "code",
   "execution_count": 58,
   "metadata": {},
   "outputs": [],
   "source": [
    "from sklearn.model_selection import GridSearchCV"
   ]
  },
  {
   "cell_type": "markdown",
   "metadata": {},
   "source": [
    "### using  hyper parameter "
   ]
  },
  {
   "cell_type": "code",
   "execution_count": 59,
   "metadata": {},
   "outputs": [],
   "source": [
    "parameters={\"max_features\":[\"auto\",\"sqrt\",\"log2\"],\n",
    "            \"criterion\":[\"gini\",\"entropy\"],\n",
    "            \"n_estimators\":np.arange(1,10),\n",
    "           \"max_depth\":np.arange(1,10)}"
   ]
  },
  {
   "cell_type": "code",
   "execution_count": 63,
   "metadata": {},
   "outputs": [],
   "source": [
    "GCV=GridSearchCV(RandomForestClassifier(),parameters,cv=2)\n",
    "#keeping the cv low to avoid delay \n",
    "#change in cv score was gradual "
   ]
  },
  {
   "cell_type": "code",
   "execution_count": null,
   "metadata": {},
   "outputs": [],
   "source": []
  },
  {
   "cell_type": "code",
   "execution_count": 64,
   "metadata": {},
   "outputs": [
    {
     "data": {
      "text/plain": [
       "dict_keys(['bootstrap', 'ccp_alpha', 'class_weight', 'criterion', 'max_depth', 'max_features', 'max_leaf_nodes', 'max_samples', 'min_impurity_decrease', 'min_impurity_split', 'min_samples_leaf', 'min_samples_split', 'min_weight_fraction_leaf', 'n_estimators', 'n_jobs', 'oob_score', 'random_state', 'verbose', 'warm_start'])"
      ]
     },
     "execution_count": 64,
     "metadata": {},
     "output_type": "execute_result"
    }
   ],
   "source": [
    "RF.get_params().keys()"
   ]
  },
  {
   "cell_type": "code",
   "execution_count": 65,
   "metadata": {},
   "outputs": [
    {
     "data": {
      "text/plain": [
       "GridSearchCV(cv=2, estimator=RandomForestClassifier(),\n",
       "             param_grid={'criterion': ['gini', 'entropy'],\n",
       "                         'max_depth': array([1, 2, 3, 4, 5, 6, 7, 8, 9]),\n",
       "                         'max_features': ['auto', 'sqrt', 'log2'],\n",
       "                         'n_estimators': array([1, 2, 3, 4, 5, 6, 7, 8, 9])})"
      ]
     },
     "execution_count": 65,
     "metadata": {},
     "output_type": "execute_result"
    }
   ],
   "source": [
    "GCV.fit(x_train,y_train)"
   ]
  },
  {
   "cell_type": "code",
   "execution_count": 66,
   "metadata": {},
   "outputs": [
    {
     "data": {
      "text/plain": [
       "{'criterion': 'entropy',\n",
       " 'max_depth': 9,\n",
       " 'max_features': 'sqrt',\n",
       " 'n_estimators': 9}"
      ]
     },
     "execution_count": 66,
     "metadata": {},
     "output_type": "execute_result"
    }
   ],
   "source": [
    "GCV.best_params_"
   ]
  },
  {
   "cell_type": "raw",
   "metadata": {},
   "source": [
    "Obseervation-\n",
    "GCV gave less  accuracy  so  finalizing model without GCV "
   ]
  },
  {
   "cell_type": "code",
   "execution_count": 71,
   "metadata": {},
   "outputs": [
    {
     "name": "stdout",
     "output_type": "stream",
     "text": [
      "50.757990867579906\n"
     ]
    }
   ],
   "source": [
    "region_model=RandomForestClassifier(criterion=\"entropy\",max_depth=9,max_features=\"sqrt\",n_estimators=9)\n",
    "region_model.fit(x_train,y_train)\n",
    "pred=region_model.predict(x_test)\n",
    "acc=accuracy_score(y_test,pred)\n",
    "print (acc*100)"
   ]
  },
  {
   "cell_type": "code",
   "execution_count": 72,
   "metadata": {},
   "outputs": [
    {
     "name": "stdout",
     "output_type": "stream",
     "text": [
      "69.7351598173516\n"
     ]
    }
   ],
   "source": [
    "region_model2=RandomForestClassifier()\n",
    "region_model2.fit(x_train,y_train)\n",
    "pred=region_model2.predict(x_test)\n",
    "acc=accuracy_score(y_test,pred)\n",
    "print (acc*100)"
   ]
  },
  {
   "cell_type": "code",
   "execution_count": 73,
   "metadata": {},
   "outputs": [
    {
     "data": {
      "text/plain": [
       "['Region_model.pkl']"
      ]
     },
     "execution_count": 73,
     "metadata": {},
     "output_type": "execute_result"
    }
   ],
   "source": [
    "import joblib\n",
    "joblib.dump(region_model2,\"Region_model.pkl\")"
   ]
  },
  {
   "cell_type": "markdown",
   "metadata": {},
   "source": [
    "### Working towards classification problem "
   ]
  },
  {
   "cell_type": "code",
   "execution_count": 75,
   "metadata": {},
   "outputs": [],
   "source": [
    "dfm=df[(z<3).all(axis=1)]"
   ]
  },
  {
   "cell_type": "code",
   "execution_count": 76,
   "metadata": {},
   "outputs": [
    {
     "data": {
      "text/html": [
       "<div>\n",
       "<style scoped>\n",
       "    .dataframe tbody tr th:only-of-type {\n",
       "        vertical-align: middle;\n",
       "    }\n",
       "\n",
       "    .dataframe tbody tr th {\n",
       "        vertical-align: top;\n",
       "    }\n",
       "\n",
       "    .dataframe thead th {\n",
       "        text-align: right;\n",
       "    }\n",
       "</style>\n",
       "<table border=\"1\" class=\"dataframe\">\n",
       "  <thead>\n",
       "    <tr style=\"text-align: right;\">\n",
       "      <th></th>\n",
       "      <th>AveragePrice</th>\n",
       "      <th>Total Volume</th>\n",
       "      <th>4046</th>\n",
       "      <th>4225</th>\n",
       "      <th>4770</th>\n",
       "      <th>Total Bags</th>\n",
       "      <th>Small Bags</th>\n",
       "      <th>Large Bags</th>\n",
       "      <th>XLarge Bags</th>\n",
       "      <th>type</th>\n",
       "      <th>year</th>\n",
       "      <th>region</th>\n",
       "    </tr>\n",
       "  </thead>\n",
       "  <tbody>\n",
       "    <tr>\n",
       "      <th>3236</th>\n",
       "      <td>136</td>\n",
       "      <td>12754</td>\n",
       "      <td>10152</td>\n",
       "      <td>8847</td>\n",
       "      <td>11562</td>\n",
       "      <td>14547</td>\n",
       "      <td>12052</td>\n",
       "      <td>11045</td>\n",
       "      <td>324</td>\n",
       "      <td>0</td>\n",
       "      <td>1</td>\n",
       "      <td>8</td>\n",
       "    </tr>\n",
       "  </tbody>\n",
       "</table>\n",
       "</div>"
      ],
      "text/plain": [
       "      AveragePrice  Total Volume   4046  4225   4770  Total Bags  Small Bags  \\\n",
       "3236           136         12754  10152  8847  11562       14547       12052   \n",
       "\n",
       "      Large Bags  XLarge Bags  type  year  region  \n",
       "3236       11045          324     0     1       8  "
      ]
     },
     "execution_count": 76,
     "metadata": {},
     "output_type": "execute_result"
    }
   ],
   "source": [
    "df.sample()"
   ]
  },
  {
   "cell_type": "code",
   "execution_count": null,
   "metadata": {},
   "outputs": [],
   "source": []
  },
  {
   "cell_type": "code",
   "execution_count": 77,
   "metadata": {},
   "outputs": [],
   "source": [
    "# splitting target \n",
    "x1=df.drop(\"AveragePrice\",axis=1)\n",
    "y1=df[\"AveragePrice\"]\n"
   ]
  },
  {
   "cell_type": "code",
   "execution_count": 83,
   "metadata": {},
   "outputs": [
    {
     "data": {
      "text/plain": [
       "<AxesSubplot:>"
      ]
     },
     "execution_count": 83,
     "metadata": {},
     "output_type": "execute_result"
    },
    {
     "data": {
      "image/png": "[encoded data removed]",
      "text/plain": [
       "<Figure size 1080x720 with 2 Axes>"
      ]
     },
     "metadata": {
      "needs_background": "light"
     },
     "output_type": "display_data"
    }
   ],
   "source": [
    "cor2=dfm.corr()\n",
    "\n",
    "plt.figure(figsize=(15,10))\n",
    "sns.heatmap(round(cor2,3),annot=True)"
   ]
  },
  {
   "cell_type": "code",
   "execution_count": null,
   "metadata": {},
   "outputs": [],
   "source": []
  },
  {
   "cell_type": "code",
   "execution_count": 91,
   "metadata": {},
   "outputs": [],
   "source": [
    "x_train,x_test,y_train,y_test=train_test_split(x1,y1,test_size=0.30,random_state=117)"
   ]
  },
  {
   "cell_type": "code",
   "execution_count": 92,
   "metadata": {},
   "outputs": [],
   "source": [
    "from sklearn.linear_model import LinearRegression \n",
    "from sklearn.linear_model import Lasso,Ridge\n",
    "from sklearn.linear_model import ElasticNet"
   ]
  },
  {
   "cell_type": "code",
   "execution_count": 93,
   "metadata": {},
   "outputs": [
    {
     "data": {
      "text/plain": [
       "39.64885628096664"
      ]
     },
     "execution_count": 93,
     "metadata": {},
     "output_type": "execute_result"
    }
   ],
   "source": [
    "#linear regression \n",
    "lm=LinearRegression()\n",
    "lm.fit(x_train,y_train)\n",
    "pred=lm.predict(x_test)\n",
    "lm_score=lm.score(x_train,y_train)*100\n",
    "lm_score"
   ]
  },
  {
   "cell_type": "code",
   "execution_count": 94,
   "metadata": {},
   "outputs": [
    {
     "data": {
      "text/plain": [
       "39.648856280966186"
      ]
     },
     "execution_count": 94,
     "metadata": {},
     "output_type": "execute_result"
    }
   ],
   "source": [
    "#Lasso \n",
    "ls=Lasso(alpha=0.000001)\n",
    "ls.fit(x_train,y_train)\n",
    "pred=ls.predict(x_test)\n",
    "ls_score=ls.score(x_train,y_train)*100\n",
    "ls_score"
   ]
  },
  {
   "cell_type": "code",
   "execution_count": 95,
   "metadata": {},
   "outputs": [
    {
     "data": {
      "text/plain": [
       "39.64885628096664"
      ]
     },
     "execution_count": 95,
     "metadata": {},
     "output_type": "execute_result"
    }
   ],
   "source": [
    "#Ridge \n",
    "rd=Ridge(alpha=0.000001)\n",
    "rd.fit(x_train,y_train)\n",
    "pred=rd.predict(x_test)\n",
    "rd_score=rd.score(x_train,y_train)*100\n",
    "rd_score"
   ]
  },
  {
   "cell_type": "code",
   "execution_count": 96,
   "metadata": {},
   "outputs": [
    {
     "data": {
      "text/plain": [
       "39.64885628067387"
      ]
     },
     "execution_count": 96,
     "metadata": {},
     "output_type": "execute_result"
    }
   ],
   "source": [
    "#elastic net\n",
    "en=ElasticNet(alpha=0.000001)\n",
    "en.fit(x_train,y_train)\n",
    "pred=en.predict(x_test)\n",
    "en_score=en.score(x_train,y_train)*100\n",
    "en_score"
   ]
  },
  {
   "cell_type": "code",
   "execution_count": 118,
   "metadata": {},
   "outputs": [
    {
     "name": "stdout",
     "output_type": "stream",
     "text": [
      "lm 39.64885628096664\n",
      "rd 39.64885628096664\n",
      "ls 39.648856280966186\n",
      "en 39.64885628067387\n"
     ]
    }
   ],
   "source": [
    "print (\"lm\",lm_score)\n",
    "print (\"rd\",rd_score)\n",
    "print (\"ls\",ls_score)\n",
    "\n",
    "print (\"en\",en_score)"
   ]
  },
  {
   "cell_type": "raw",
   "metadata": {},
   "source": [
    "observation - \n",
    "ls and rd are giving highest score ."
   ]
  },
  {
   "cell_type": "code",
   "execution_count": 101,
   "metadata": {},
   "outputs": [
    {
     "name": "stdout",
     "output_type": "stream",
     "text": [
      "LinearRegression() -35.687513796701516\n",
      "Ridge(alpha=1e-06) -35.68751378733626\n",
      "Lasso(alpha=1e-06) -35.687481820557856\n",
      "ElasticNet(alpha=1e-06) -35.68742945256939\n"
     ]
    }
   ],
   "source": [
    "models=(lm,rd,ls,en)\n",
    "for i in models:\n",
    "    print (i , cross_val_score(i,x,y,cv=5).mean()*100)"
   ]
  },
  {
   "cell_type": "raw",
   "metadata": {},
   "source": [
    "Observation\n",
    "ridge has smalle rnegative  result"
   ]
  },
  {
   "cell_type": "code",
   "execution_count": 122,
   "metadata": {},
   "outputs": [],
   "source": [
    "from sklearn.model_selection import GridSearchCV\n",
    "\n",
    "parameters={\"solver\":[\"auto\",\"svd\",\"lsqr\",\"saga\"],\n",
    "            \"copy_X\":[\"true\",\"false\"],\n",
    "             \"random_state\":np.arange(1,50),\n",
    "           \"max_iter\":np.arange(1,5)}"
   ]
  },
  {
   "cell_type": "code",
   "execution_count": 124,
   "metadata": {},
   "outputs": [],
   "source": [
    "GCV=GridSearchCV(Ridge(),parameters,cv=2)"
   ]
  },
  {
   "cell_type": "code",
   "execution_count": 125,
   "metadata": {},
   "outputs": [
    {
     "data": {
      "text/plain": [
       "dict_keys(['alpha', 'copy_X', 'fit_intercept', 'max_iter', 'normalize', 'random_state', 'solver', 'tol'])"
      ]
     },
     "execution_count": 125,
     "metadata": {},
     "output_type": "execute_result"
    }
   ],
   "source": [
    "rd.get_params().keys()"
   ]
  },
  {
   "cell_type": "code",
   "execution_count": 126,
   "metadata": {},
   "outputs": [
    {
     "data": {
      "text/plain": [
       "GridSearchCV(cv=2, estimator=Ridge(),\n",
       "             param_grid={'copy_X': ['true', 'false'],\n",
       "                         'max_iter': array([1, 2, 3, 4]),\n",
       "                         'random_state': array([ 1,  2,  3,  4,  5,  6,  7,  8,  9, 10, 11, 12, 13, 14, 15, 16, 17,\n",
       "       18, 19, 20, 21, 22, 23, 24, 25, 26, 27, 28, 29, 30, 31, 32, 33, 34,\n",
       "       35, 36, 37, 38, 39, 40, 41, 42, 43, 44, 45, 46, 47, 48, 49]),\n",
       "                         'solver': ['auto', 'svd', 'lsqr', 'saga']})"
      ]
     },
     "execution_count": 126,
     "metadata": {},
     "output_type": "execute_result"
    }
   ],
   "source": [
    "GCV.fit(x_train,y_train)"
   ]
  },
  {
   "cell_type": "code",
   "execution_count": 127,
   "metadata": {},
   "outputs": [
    {
     "data": {
      "text/plain": [
       "{'copy_X': 'true', 'max_iter': 1, 'random_state': 1, 'solver': 'svd'}"
      ]
     },
     "execution_count": 127,
     "metadata": {},
     "output_type": "execute_result"
    }
   ],
   "source": [
    "GCV.best_params_"
   ]
  },
  {
   "cell_type": "code",
   "execution_count": 128,
   "metadata": {},
   "outputs": [
    {
     "name": "stdout",
     "output_type": "stream",
     "text": [
      "39.648849377804076\n"
     ]
    }
   ],
   "source": [
    "price_model=Ridge(copy_X=\"True\", max_iter= 1, random_state=1,solver= 'svd')\n",
    "price_model.fit(x_train ,y_train)\n",
    "pred=price_model.predict(x_test)\n",
    "scoree=price_model.score(x_train,y_train)\n",
    "print(scoree*100)"
   ]
  },
  {
   "cell_type": "code",
   "execution_count": 129,
   "metadata": {},
   "outputs": [
    {
     "data": {
      "text/plain": [
       "['Price_model.pkl']"
      ]
     },
     "execution_count": 129,
     "metadata": {},
     "output_type": "execute_result"
    }
   ],
   "source": [
    "import joblib\n",
    "joblib.dump(price_model,\"Price_model.pkl\")"
   ]
  },
  {
   "cell_type": "code",
   "execution_count": null,
   "metadata": {},
   "outputs": [],
   "source": []
  }
 ],
 "metadata": {
  "kernelspec": {
   "display_name": "Python 3",
   "language": "python",
   "name": "python3"
  },
  "language_info": {
   "codemirror_mode": {
    "name": "ipython",
    "version": 3
   },
   "file_extension": ".py",
   "mimetype": "text/x-python",
   "name": "python",
   "nbconvert_exporter": "python",
   "pygments_lexer": "ipython3",
   "version": "3.8.5"
  }
 },
 "nbformat": 4,
 "nbformat_minor": 4
}
